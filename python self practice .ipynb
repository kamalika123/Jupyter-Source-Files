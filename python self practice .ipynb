{
 "cells": [
  {
   "cell_type": "code",
   "execution_count": 1,
   "id": "165cc358",
   "metadata": {},
   "outputs": [
    {
     "data": {
      "text/plain": [
       "3"
      ]
     },
     "execution_count": 1,
     "metadata": {},
     "output_type": "execute_result"
    }
   ],
   "source": [
    "2 + 1"
   ]
  },
  {
   "cell_type": "code",
   "execution_count": 2,
   "id": "4c5965f5",
   "metadata": {},
   "outputs": [
    {
     "data": {
      "text/plain": [
       "11"
      ]
     },
     "execution_count": 2,
     "metadata": {},
     "output_type": "execute_result"
    }
   ],
   "source": [
    "39 % 14\n"
   ]
  },
  {
   "cell_type": "code",
   "execution_count": 3,
   "id": "bd314bf2",
   "metadata": {},
   "outputs": [
    {
     "data": {
      "text/plain": [
       "1"
      ]
     },
     "execution_count": 3,
     "metadata": {},
     "output_type": "execute_result"
    }
   ],
   "source": [
    "7%3"
   ]
  },
  {
   "cell_type": "code",
   "execution_count": 4,
   "id": "2c2ca60a",
   "metadata": {},
   "outputs": [
    {
     "data": {
      "text/plain": [
       "9"
      ]
     },
     "execution_count": 4,
     "metadata": {},
     "output_type": "execute_result"
    }
   ],
   "source": [
    "3 ** 2"
   ]
  },
  {
   "cell_type": "code",
   "execution_count": 7,
   "id": "f4daaf4e",
   "metadata": {},
   "outputs": [],
   "source": [
    "my_name = 'Kamalika Bhattacharya'"
   ]
  },
  {
   "cell_type": "code",
   "execution_count": 8,
   "id": "e6756703",
   "metadata": {},
   "outputs": [
    {
     "name": "stdout",
     "output_type": "stream",
     "text": [
      "Kamalika Bhattacharya\n"
     ]
    }
   ],
   "source": [
    "print(my_name)"
   ]
  },
  {
   "cell_type": "code",
   "execution_count": 9,
   "id": "4617c90e",
   "metadata": {},
   "outputs": [
    {
     "data": {
      "text/plain": [
       "'Kamalika Bhattacharya'"
      ]
     },
     "execution_count": 9,
     "metadata": {},
     "output_type": "execute_result"
    }
   ],
   "source": [
    "my_name[0:]"
   ]
  },
  {
   "cell_type": "code",
   "execution_count": 10,
   "id": "58c03449",
   "metadata": {},
   "outputs": [
    {
     "data": {
      "text/plain": [
       "' Bhattacharya'"
      ]
     },
     "execution_count": 10,
     "metadata": {},
     "output_type": "execute_result"
    }
   ],
   "source": [
    "my_name[8:]"
   ]
  },
  {
   "cell_type": "code",
   "execution_count": 11,
   "id": "5408d115",
   "metadata": {},
   "outputs": [
    {
     "data": {
      "text/plain": [
       "'lika B'"
      ]
     },
     "execution_count": 11,
     "metadata": {},
     "output_type": "execute_result"
    }
   ],
   "source": [
    "my_name[4:10]"
   ]
  },
  {
   "cell_type": "code",
   "execution_count": 12,
   "id": "938f3ef8",
   "metadata": {},
   "outputs": [
    {
     "data": {
      "text/plain": [
       "'Kamalika Bhattacharya'"
      ]
     },
     "execution_count": 12,
     "metadata": {},
     "output_type": "execute_result"
    }
   ],
   "source": [
    "my_name[::]"
   ]
  },
  {
   "cell_type": "code",
   "execution_count": 13,
   "id": "f5839160",
   "metadata": {},
   "outputs": [
    {
     "data": {
      "text/plain": [
       "'ayrahcattahB akilamaK'"
      ]
     },
     "execution_count": 13,
     "metadata": {},
     "output_type": "execute_result"
    }
   ],
   "source": [
    "my_name[::-1]"
   ]
  },
  {
   "cell_type": "code",
   "execution_count": 14,
   "id": "725913ad",
   "metadata": {},
   "outputs": [
    {
     "data": {
      "text/plain": [
       "'arhath klmK'"
      ]
     },
     "execution_count": 14,
     "metadata": {},
     "output_type": "execute_result"
    }
   ],
   "source": [
    "my_name[::-2]"
   ]
  },
  {
   "cell_type": "code",
   "execution_count": 15,
   "id": "06b41584",
   "metadata": {},
   "outputs": [
    {
     "data": {
      "text/plain": [
       "'Kamalika'"
      ]
     },
     "execution_count": 15,
     "metadata": {},
     "output_type": "execute_result"
    }
   ],
   "source": [
    "my_name[0:8:1]"
   ]
  },
  {
   "cell_type": "code",
   "execution_count": 16,
   "id": "30718047",
   "metadata": {},
   "outputs": [
    {
     "data": {
      "text/plain": [
       "'a'"
      ]
     },
     "execution_count": 16,
     "metadata": {},
     "output_type": "execute_result"
    }
   ],
   "source": [
    "my_name[-1:]"
   ]
  },
  {
   "cell_type": "code",
   "execution_count": 18,
   "id": "b802e925",
   "metadata": {},
   "outputs": [
    {
     "data": {
      "text/plain": [
       "'ry'"
      ]
     },
     "execution_count": 18,
     "metadata": {},
     "output_type": "execute_result"
    }
   ],
   "source": [
    "my_name[-3:-1]"
   ]
  },
  {
   "cell_type": "code",
   "execution_count": 19,
   "id": "b2b5bfed",
   "metadata": {},
   "outputs": [
    {
     "data": {
      "text/plain": [
       "'My name is Kamalika'"
      ]
     },
     "execution_count": 19,
     "metadata": {},
     "output_type": "execute_result"
    }
   ],
   "source": [
    "'My name is {}'.format('Kamalika')"
   ]
  },
  {
   "cell_type": "code",
   "execution_count": 20,
   "id": "bc5105c7",
   "metadata": {},
   "outputs": [
    {
     "data": {
      "text/plain": [
       "'My name is Kamalika Bhattacharya'"
      ]
     },
     "execution_count": 20,
     "metadata": {},
     "output_type": "execute_result"
    }
   ],
   "source": [
    "'My name is {0} {1}'.format('Kamalika','Bhattacharya')"
   ]
  },
  {
   "cell_type": "code",
   "execution_count": 21,
   "id": "34e40c44",
   "metadata": {},
   "outputs": [],
   "source": [
    "Number = 1057.897654"
   ]
  },
  {
   "cell_type": "code",
   "execution_count": 26,
   "id": "acfe57f4",
   "metadata": {},
   "outputs": [
    {
     "data": {
      "text/plain": [
       "'1057.9'"
      ]
     },
     "execution_count": 26,
     "metadata": {},
     "output_type": "execute_result"
    }
   ],
   "source": [
    "'{:1.1f}'.format(Number)"
   ]
  },
  {
   "cell_type": "code",
   "execution_count": 24,
   "id": "73bb5205",
   "metadata": {},
   "outputs": [
    {
     "data": {
      "text/plain": [
       "'1057.897654'"
      ]
     },
     "execution_count": 24,
     "metadata": {},
     "output_type": "execute_result"
    }
   ],
   "source": [
    "'{:^10}'.format(Number)"
   ]
  },
  {
   "cell_type": "code",
   "execution_count": 27,
   "id": "250b2c2b",
   "metadata": {},
   "outputs": [],
   "source": [
    "list1 = [20,'twenty',55.5]"
   ]
  },
  {
   "cell_type": "code",
   "execution_count": 28,
   "id": "57347076",
   "metadata": {},
   "outputs": [],
   "source": [
    "list2 = [30,40,50]"
   ]
  },
  {
   "cell_type": "code",
   "execution_count": 29,
   "id": "c53571bb",
   "metadata": {},
   "outputs": [
    {
     "data": {
      "text/plain": [
       "[20, 'twenty', 55.5, 30, 40, 50]"
      ]
     },
     "execution_count": 29,
     "metadata": {},
     "output_type": "execute_result"
    }
   ],
   "source": [
    "list1 + list2  #but it does not get saved"
   ]
  },
  {
   "cell_type": "code",
   "execution_count": 30,
   "id": "22fa7c18",
   "metadata": {},
   "outputs": [
    {
     "data": {
      "text/plain": [
       "[20, 'twenty', 55.5]"
      ]
     },
     "execution_count": 30,
     "metadata": {},
     "output_type": "execute_result"
    }
   ],
   "source": [
    "list1"
   ]
  },
  {
   "cell_type": "code",
   "execution_count": 31,
   "id": "531a296b",
   "metadata": {},
   "outputs": [
    {
     "data": {
      "text/plain": [
       "[30, 40, 50]"
      ]
     },
     "execution_count": 31,
     "metadata": {},
     "output_type": "execute_result"
    }
   ],
   "source": [
    "list2"
   ]
  },
  {
   "cell_type": "code",
   "execution_count": 32,
   "id": "6a78320d",
   "metadata": {},
   "outputs": [],
   "source": [
    "x = list1+list2 #now it is saved"
   ]
  },
  {
   "cell_type": "code",
   "execution_count": 33,
   "id": "22e7bf92",
   "metadata": {},
   "outputs": [
    {
     "data": {
      "text/plain": [
       "[20, 'twenty', 55.5, 30, 40, 50]"
      ]
     },
     "execution_count": 33,
     "metadata": {},
     "output_type": "execute_result"
    }
   ],
   "source": [
    "x"
   ]
  },
  {
   "cell_type": "code",
   "execution_count": 35,
   "id": "43e87bb6",
   "metadata": {},
   "outputs": [
    {
     "data": {
      "text/plain": [
       "[20, 'twenty', 55.5, 30, 40, 50]"
      ]
     },
     "execution_count": 35,
     "metadata": {},
     "output_type": "execute_result"
    }
   ],
   "source": [
    "x"
   ]
  },
  {
   "cell_type": "code",
   "execution_count": 36,
   "id": "d2ae79eb",
   "metadata": {},
   "outputs": [
    {
     "data": {
      "text/plain": [
       "20"
      ]
     },
     "execution_count": 36,
     "metadata": {},
     "output_type": "execute_result"
    }
   ],
   "source": [
    "list1[0]"
   ]
  },
  {
   "cell_type": "code",
   "execution_count": 37,
   "id": "d4cd05b3",
   "metadata": {},
   "outputs": [
    {
     "data": {
      "text/plain": [
       "[20, 'twenty', 55.5]"
      ]
     },
     "execution_count": 37,
     "metadata": {},
     "output_type": "execute_result"
    }
   ],
   "source": [
    "list1[0:]"
   ]
  },
  {
   "cell_type": "code",
   "execution_count": 38,
   "id": "6ff2ae89",
   "metadata": {},
   "outputs": [
    {
     "data": {
      "text/plain": [
       "[50, 40, 30, 55.5, 'twenty', 20]"
      ]
     },
     "execution_count": 38,
     "metadata": {},
     "output_type": "execute_result"
    }
   ],
   "source": [
    "x[::-1]"
   ]
  },
  {
   "cell_type": "code",
   "execution_count": 39,
   "id": "a72e06f1",
   "metadata": {},
   "outputs": [
    {
     "data": {
      "text/plain": [
       "['twenty', 55.5, 30]"
      ]
     },
     "execution_count": 39,
     "metadata": {},
     "output_type": "execute_result"
    }
   ],
   "source": [
    "x[1:4]"
   ]
  },
  {
   "cell_type": "code",
   "execution_count": 40,
   "id": "2b5a6a9b",
   "metadata": {},
   "outputs": [
    {
     "data": {
      "text/plain": [
       "[20, 55.5, 40]"
      ]
     },
     "execution_count": 40,
     "metadata": {},
     "output_type": "execute_result"
    }
   ],
   "source": [
    "x[0:5:2]"
   ]
  },
  {
   "cell_type": "code",
   "execution_count": 43,
   "id": "ca84304d",
   "metadata": {},
   "outputs": [],
   "source": [
    "x[1] = 'Kamalika' #Lists are mutable unlike strings"
   ]
  },
  {
   "cell_type": "code",
   "execution_count": 42,
   "id": "ed4a5c83",
   "metadata": {},
   "outputs": [
    {
     "data": {
      "text/plain": [
       "[20, 'Kamalika', 55.5, 30, 40, 50]"
      ]
     },
     "execution_count": 42,
     "metadata": {},
     "output_type": "execute_result"
    }
   ],
   "source": [
    "x"
   ]
  },
  {
   "cell_type": "code",
   "execution_count": 51,
   "id": "4daebd58",
   "metadata": {},
   "outputs": [],
   "source": [
    "student_name = 'sally'"
   ]
  },
  {
   "cell_type": "code",
   "execution_count": 50,
   "id": "7e74c51d",
   "metadata": {},
   "outputs": [
    {
     "ename": "TypeError",
     "evalue": "'str' object does not support item assignment",
     "output_type": "error",
     "traceback": [
      "\u001b[1;31m---------------------------------------------------------------------------\u001b[0m",
      "\u001b[1;31mTypeError\u001b[0m                                 Traceback (most recent call last)",
      "Cell \u001b[1;32mIn[50], line 1\u001b[0m\n\u001b[1;32m----> 1\u001b[0m student_name[\u001b[38;5;241m0\u001b[39m] \u001b[38;5;241m=\u001b[39m \u001b[38;5;124m'\u001b[39m\u001b[38;5;124mMallika\u001b[39m\u001b[38;5;124m'\u001b[39m\n",
      "\u001b[1;31mTypeError\u001b[0m: 'str' object does not support item assignment"
     ]
    }
   ],
   "source": [
    "student_name[0] = 'Mallika'  # We cannot do that, to change the variable we can do string concatenation"
   ]
  },
  {
   "cell_type": "code",
   "execution_count": 53,
   "id": "7cf0fce1",
   "metadata": {},
   "outputs": [],
   "source": [
    "last_letters = student_name[2:]"
   ]
  },
  {
   "cell_type": "code",
   "execution_count": 57,
   "id": "3ced5f1b",
   "metadata": {},
   "outputs": [],
   "source": [
    "student_name ='Mo' + last_letters   #we replaced sally with Molly using string concatenation"
   ]
  },
  {
   "cell_type": "code",
   "execution_count": 58,
   "id": "96897fde",
   "metadata": {},
   "outputs": [
    {
     "data": {
      "text/plain": [
       "'Molly'"
      ]
     },
     "execution_count": 58,
     "metadata": {},
     "output_type": "execute_result"
    }
   ],
   "source": [
    "student_name"
   ]
  },
  {
   "cell_type": "code",
   "execution_count": 59,
   "id": "21f74543",
   "metadata": {},
   "outputs": [
    {
     "data": {
      "text/plain": [
       "'l'"
      ]
     },
     "execution_count": 59,
     "metadata": {},
     "output_type": "execute_result"
    }
   ],
   "source": [
    "student_name[2]"
   ]
  },
  {
   "cell_type": "code",
   "execution_count": 60,
   "id": "f125bd93",
   "metadata": {},
   "outputs": [
    {
     "data": {
      "text/plain": [
       "str"
      ]
     },
     "execution_count": 60,
     "metadata": {},
     "output_type": "execute_result"
    }
   ],
   "source": [
    "type(student_name)"
   ]
  },
  {
   "cell_type": "code",
   "execution_count": 61,
   "id": "0b8f228c",
   "metadata": {},
   "outputs": [
    {
     "data": {
      "text/plain": [
       "list"
      ]
     },
     "execution_count": 61,
     "metadata": {},
     "output_type": "execute_result"
    }
   ],
   "source": [
    "type(x)"
   ]
  },
  {
   "cell_type": "code",
   "execution_count": 62,
   "id": "aac604e0",
   "metadata": {},
   "outputs": [
    {
     "data": {
      "text/plain": [
       "[20, 'Kamalika', 55.5, 30, 40, 50]"
      ]
     },
     "execution_count": 62,
     "metadata": {},
     "output_type": "execute_result"
    }
   ],
   "source": [
    "x"
   ]
  },
  {
   "cell_type": "code",
   "execution_count": 63,
   "id": "5191e43b",
   "metadata": {},
   "outputs": [
    {
     "data": {
      "text/plain": [
       "50"
      ]
     },
     "execution_count": 63,
     "metadata": {},
     "output_type": "execute_result"
    }
   ],
   "source": [
    "x.pop()"
   ]
  },
  {
   "cell_type": "code",
   "execution_count": 64,
   "id": "7b0d98e8",
   "metadata": {},
   "outputs": [
    {
     "data": {
      "text/plain": [
       "[20, 'Kamalika', 55.5, 30, 40]"
      ]
     },
     "execution_count": 64,
     "metadata": {},
     "output_type": "execute_result"
    }
   ],
   "source": [
    "x"
   ]
  },
  {
   "cell_type": "code",
   "execution_count": 65,
   "id": "792525b7",
   "metadata": {},
   "outputs": [],
   "source": [
    "x.append(100)"
   ]
  },
  {
   "cell_type": "code",
   "execution_count": 66,
   "id": "52633f8e",
   "metadata": {},
   "outputs": [
    {
     "data": {
      "text/plain": [
       "[20, 'Kamalika', 55.5, 30, 40, 100]"
      ]
     },
     "execution_count": 66,
     "metadata": {},
     "output_type": "execute_result"
    }
   ],
   "source": [
    "x"
   ]
  },
  {
   "cell_type": "code",
   "execution_count": 67,
   "id": "12410cef",
   "metadata": {},
   "outputs": [],
   "source": [
    "x.reverse()"
   ]
  },
  {
   "cell_type": "code",
   "execution_count": 68,
   "id": "46662111",
   "metadata": {},
   "outputs": [
    {
     "data": {
      "text/plain": [
       "[100, 40, 30, 55.5, 'Kamalika', 20]"
      ]
     },
     "execution_count": 68,
     "metadata": {},
     "output_type": "execute_result"
    }
   ],
   "source": [
    "x"
   ]
  },
  {
   "cell_type": "code",
   "execution_count": 70,
   "id": "7bb6ca56",
   "metadata": {},
   "outputs": [
    {
     "ename": "TypeError",
     "evalue": "'<' not supported between instances of 'str' and 'int'",
     "output_type": "error",
     "traceback": [
      "\u001b[1;31m---------------------------------------------------------------------------\u001b[0m",
      "\u001b[1;31mTypeError\u001b[0m                                 Traceback (most recent call last)",
      "Cell \u001b[1;32mIn[70], line 1\u001b[0m\n\u001b[1;32m----> 1\u001b[0m x\u001b[38;5;241m.\u001b[39msort()\n",
      "\u001b[1;31mTypeError\u001b[0m: '<' not supported between instances of 'str' and 'int'"
     ]
    }
   ],
   "source": [
    "x.sort()  #will have to have same datatypes in the list to sort"
   ]
  },
  {
   "cell_type": "code",
   "execution_count": 71,
   "id": "70fe23e4",
   "metadata": {},
   "outputs": [],
   "source": [
    "x_letters=['m','a','z','p']"
   ]
  },
  {
   "cell_type": "code",
   "execution_count": 72,
   "id": "6f6f9ce0",
   "metadata": {},
   "outputs": [],
   "source": [
    "x_letters.sort()   #sort the letters in place"
   ]
  },
  {
   "cell_type": "code",
   "execution_count": 73,
   "id": "5ee98b3e",
   "metadata": {},
   "outputs": [
    {
     "data": {
      "text/plain": [
       "['a', 'm', 'p', 'z']"
      ]
     },
     "execution_count": 73,
     "metadata": {},
     "output_type": "execute_result"
    }
   ],
   "source": [
    "x_letters"
   ]
  },
  {
   "cell_type": "code",
   "execution_count": 74,
   "id": "fb527f0c",
   "metadata": {},
   "outputs": [],
   "source": [
    "x_sortedletters = x_letters.sort() #wrong approach"
   ]
  },
  {
   "cell_type": "code",
   "execution_count": 76,
   "id": "bca517ca",
   "metadata": {},
   "outputs": [],
   "source": [
    "x_sortedletters #wrong approach"
   ]
  },
  {
   "cell_type": "code",
   "execution_count": 1,
   "id": "032f3c8a",
   "metadata": {},
   "outputs": [],
   "source": [
    "#dictionaries are mutable, tuples are immutable"
   ]
  },
  {
   "cell_type": "code",
   "execution_count": 2,
   "id": "baaac19a",
   "metadata": {},
   "outputs": [],
   "source": [
    "t=(1,2,3)   #immutable"
   ]
  },
  {
   "cell_type": "code",
   "execution_count": 3,
   "id": "7b526ca6",
   "metadata": {},
   "outputs": [
    {
     "data": {
      "text/plain": [
       "tuple"
      ]
     },
     "execution_count": 3,
     "metadata": {},
     "output_type": "execute_result"
    }
   ],
   "source": [
    "type(t)"
   ]
  },
  {
   "cell_type": "code",
   "execution_count": 4,
   "id": "0360b795",
   "metadata": {},
   "outputs": [],
   "source": [
    "L=[1,2,3]  #mutable"
   ]
  },
  {
   "cell_type": "code",
   "execution_count": 5,
   "id": "ecad6b18",
   "metadata": {},
   "outputs": [
    {
     "data": {
      "text/plain": [
       "list"
      ]
     },
     "execution_count": 5,
     "metadata": {},
     "output_type": "execute_result"
    }
   ],
   "source": [
    "type(L)"
   ]
  },
  {
   "cell_type": "code",
   "execution_count": 6,
   "id": "5cd78e70",
   "metadata": {},
   "outputs": [],
   "source": [
    "D={'KEY1':1,'KEY2':2,'KEY3':3}  #mutable"
   ]
  },
  {
   "cell_type": "code",
   "execution_count": 7,
   "id": "31c2642c",
   "metadata": {},
   "outputs": [
    {
     "data": {
      "text/plain": [
       "dict"
      ]
     },
     "execution_count": 7,
     "metadata": {},
     "output_type": "execute_result"
    }
   ],
   "source": [
    "type(D)"
   ]
  },
  {
   "cell_type": "code",
   "execution_count": 8,
   "id": "5e559124",
   "metadata": {},
   "outputs": [],
   "source": [
    "T=('a','a','b','b','b','c','d','d')"
   ]
  },
  {
   "cell_type": "code",
   "execution_count": 9,
   "id": "0e80f2b2",
   "metadata": {},
   "outputs": [
    {
     "data": {
      "text/plain": [
       "3"
      ]
     },
     "execution_count": 9,
     "metadata": {},
     "output_type": "execute_result"
    }
   ],
   "source": [
    "T.count('b')  #counts the number of times b occured"
   ]
  },
  {
   "cell_type": "code",
   "execution_count": 12,
   "id": "ab09ba54",
   "metadata": {},
   "outputs": [
    {
     "data": {
      "text/plain": [
       "6"
      ]
     },
     "execution_count": 12,
     "metadata": {},
     "output_type": "execute_result"
    }
   ],
   "source": [
    "T.index('d')   #shows the index where for the very first time d occured"
   ]
  },
  {
   "cell_type": "code",
   "execution_count": 13,
   "id": "b9a28dff",
   "metadata": {},
   "outputs": [],
   "source": [
    "#sets are unordered collection of unique objects"
   ]
  },
  {
   "cell_type": "code",
   "execution_count": 14,
   "id": "7dbe6944",
   "metadata": {},
   "outputs": [],
   "source": [
    "myset = set()"
   ]
  },
  {
   "cell_type": "code",
   "execution_count": 16,
   "id": "3091e643",
   "metadata": {},
   "outputs": [],
   "source": [
    "myset.add(9)"
   ]
  },
  {
   "cell_type": "code",
   "execution_count": 17,
   "id": "0590e702",
   "metadata": {},
   "outputs": [
    {
     "data": {
      "text/plain": [
       "{9}"
      ]
     },
     "execution_count": 17,
     "metadata": {},
     "output_type": "execute_result"
    }
   ],
   "source": [
    "myset"
   ]
  },
  {
   "cell_type": "code",
   "execution_count": 18,
   "id": "2ad031c1",
   "metadata": {},
   "outputs": [],
   "source": [
    "myset.add(36)"
   ]
  },
  {
   "cell_type": "code",
   "execution_count": 19,
   "id": "b49d2c96",
   "metadata": {},
   "outputs": [
    {
     "data": {
      "text/plain": [
       "{9, 36}"
      ]
     },
     "execution_count": 19,
     "metadata": {},
     "output_type": "execute_result"
    }
   ],
   "source": [
    "myset"
   ]
  },
  {
   "cell_type": "code",
   "execution_count": 22,
   "id": "95490e3f",
   "metadata": {},
   "outputs": [],
   "source": [
    "myset.add(36)  #no repeatation of character allowed"
   ]
  },
  {
   "cell_type": "code",
   "execution_count": 21,
   "id": "107c501e",
   "metadata": {},
   "outputs": [
    {
     "data": {
      "text/plain": [
       "{9, 36}"
      ]
     },
     "execution_count": 21,
     "metadata": {},
     "output_type": "execute_result"
    }
   ],
   "source": [
    "myset"
   ]
  },
  {
   "cell_type": "code",
   "execution_count": 23,
   "id": "afcef504",
   "metadata": {},
   "outputs": [
    {
     "data": {
      "text/plain": [
       "{'K', 'a', 'i', 'k', 'l', 'm'}"
      ]
     },
     "execution_count": 23,
     "metadata": {},
     "output_type": "execute_result"
    }
   ],
   "source": [
    "set(\"Kaamaaaaalllliikkkkkkkkkka\")"
   ]
  },
  {
   "cell_type": "code",
   "execution_count": 24,
   "id": "ba0a6842",
   "metadata": {},
   "outputs": [
    {
     "data": {
      "text/plain": [
       "'C:\\\\Users\\\\kamal'"
      ]
     },
     "execution_count": 24,
     "metadata": {},
     "output_type": "execute_result"
    }
   ],
   "source": [
    "pwd"
   ]
  },
  {
   "cell_type": "code",
   "execution_count": 25,
   "id": "6244f5b5",
   "metadata": {},
   "outputs": [],
   "source": [
    "myfile=open('test.txt')"
   ]
  },
  {
   "cell_type": "code",
   "execution_count": 26,
   "id": "2345688f",
   "metadata": {},
   "outputs": [
    {
     "data": {
      "text/plain": [
       "'C:\\\\Users\\\\kamal'"
      ]
     },
     "execution_count": 26,
     "metadata": {},
     "output_type": "execute_result"
    }
   ],
   "source": [
    "pwd(myfile)"
   ]
  },
  {
   "cell_type": "code",
   "execution_count": 27,
   "id": "80adc650",
   "metadata": {},
   "outputs": [
    {
     "name": "stdout",
     "output_type": "stream",
     "text": [
      "Writing newfile.txt\n"
     ]
    }
   ],
   "source": [
    "%%writefile newfile.txt\n",
    "I am Kamalika Bhattacharya\n",
    "I am a bad person\n",
    "I hate everyone and everything\n",
    "I feel like dying"
   ]
  },
  {
   "cell_type": "code",
   "execution_count": 28,
   "id": "4028a73d",
   "metadata": {},
   "outputs": [],
   "source": [
    "newfile = open('newfile.txt')"
   ]
  },
  {
   "cell_type": "code",
   "execution_count": 29,
   "id": "aa0a77f8",
   "metadata": {},
   "outputs": [
    {
     "data": {
      "text/plain": [
       "'I am Kamalika Bhattacharya\\nI am a bad person\\nI hate everyone and everything\\nI feel like dying\\n'"
      ]
     },
     "execution_count": 29,
     "metadata": {},
     "output_type": "execute_result"
    }
   ],
   "source": [
    "newfile.read()"
   ]
  },
  {
   "cell_type": "code",
   "execution_count": 30,
   "id": "27589ef3",
   "metadata": {},
   "outputs": [
    {
     "data": {
      "text/plain": [
       "''"
      ]
     },
     "execution_count": 30,
     "metadata": {},
     "output_type": "execute_result"
    }
   ],
   "source": [
    "newfile.read()"
   ]
  },
  {
   "cell_type": "code",
   "execution_count": 35,
   "id": "69ad6e9a",
   "metadata": {},
   "outputs": [
    {
     "data": {
      "text/plain": [
       "0"
      ]
     },
     "execution_count": 35,
     "metadata": {},
     "output_type": "execute_result"
    }
   ],
   "source": [
    "#we will reassign the cursor\n",
    "newfile.seek(0)"
   ]
  },
  {
   "cell_type": "code",
   "execution_count": 43,
   "id": "b1fb3c0d",
   "metadata": {},
   "outputs": [],
   "source": [
    "contents = newfile.read() #output is in form of strings"
   ]
  },
  {
   "cell_type": "code",
   "execution_count": 37,
   "id": "fa5226dd",
   "metadata": {},
   "outputs": [
    {
     "data": {
      "text/plain": [
       "'I am Kamalika Bhattacharya\\nI am a bad person\\nI hate everyone and everything\\nI feel like dying\\n'"
      ]
     },
     "execution_count": 37,
     "metadata": {},
     "output_type": "execute_result"
    }
   ],
   "source": [
    "contents"
   ]
  },
  {
   "cell_type": "code",
   "execution_count": 41,
   "id": "46908e82",
   "metadata": {},
   "outputs": [
    {
     "data": {
      "text/plain": [
       "0"
      ]
     },
     "execution_count": 41,
     "metadata": {},
     "output_type": "execute_result"
    }
   ],
   "source": [
    "newfile.seek(0)"
   ]
  },
  {
   "cell_type": "code",
   "execution_count": 42,
   "id": "cd5efc24",
   "metadata": {},
   "outputs": [
    {
     "data": {
      "text/plain": [
       "['I am Kamalika Bhattacharya\\n',\n",
       " 'I am a bad person\\n',\n",
       " 'I hate everyone and everything\\n',\n",
       " 'I feel like dying\\n']"
      ]
     },
     "execution_count": 42,
     "metadata": {},
     "output_type": "execute_result"
    }
   ],
   "source": [
    "newfile.readlines()   #output is in form of lists"
   ]
  },
  {
   "cell_type": "code",
   "execution_count": 44,
   "id": "94ab6403",
   "metadata": {},
   "outputs": [],
   "source": [
    "newfile.close()"
   ]
  },
  {
   "cell_type": "code",
   "execution_count": 47,
   "id": "4e992622",
   "metadata": {},
   "outputs": [],
   "source": [
    "with open ('newfile.txt') as myfile:\n",
    "    content=myfile.read()"
   ]
  },
  {
   "cell_type": "code",
   "execution_count": 46,
   "id": "4a71b396",
   "metadata": {},
   "outputs": [
    {
     "data": {
      "text/plain": [
       "'I am Kamalika Bhattacharya\\nI am a bad person\\nI hate everyone and everything\\nI feel like dying\\n'"
      ]
     },
     "execution_count": 46,
     "metadata": {},
     "output_type": "execute_result"
    }
   ],
   "source": [
    "content"
   ]
  },
  {
   "cell_type": "code",
   "execution_count": 48,
   "id": "6eb3b420",
   "metadata": {},
   "outputs": [
    {
     "name": "stdout",
     "output_type": "stream",
     "text": [
      "Writing mynewfile.txt\n"
     ]
    }
   ],
   "source": [
    "%%writefile mynewfile.txt\n",
    "one two three\n",
    "four five six\n",
    "seven eight nine"
   ]
  },
  {
   "cell_type": "code",
   "execution_count": 49,
   "id": "07fd4ed2",
   "metadata": {},
   "outputs": [
    {
     "name": "stdout",
     "output_type": "stream",
     "text": [
      "one two three\n",
      "four five six\n",
      "seven eight nine\n",
      "\n"
     ]
    }
   ],
   "source": [
    "with open('mynewfile.txt',mode='r') as f:  #read only mode\n",
    "    print(f.read())"
   ]
  },
  {
   "cell_type": "code",
   "execution_count": 53,
   "id": "8aa793a8",
   "metadata": {},
   "outputs": [],
   "source": [
    "with open('mynewfile.txt',mode='a') as f:    #append new line\n",
    "    f.write('ten eleven twelve')"
   ]
  },
  {
   "cell_type": "code",
   "execution_count": 52,
   "id": "db6f4414",
   "metadata": {},
   "outputs": [
    {
     "name": "stdout",
     "output_type": "stream",
     "text": [
      "one two three\n",
      "four five six\n",
      "seven eight nine\n",
      "ten eleven twelve\n"
     ]
    }
   ],
   "source": [
    "with open('mynewfile.txt',mode='r') as f:    \n",
    "    print(f.read())"
   ]
  },
  {
   "cell_type": "code",
   "execution_count": 56,
   "id": "c88b07f1",
   "metadata": {},
   "outputs": [],
   "source": [
    "with open('hgfkslatenchsj.txt',mode='w') as f:   #overwrite the file or create a new file\n",
    "    f.write('new text file')"
   ]
  },
  {
   "cell_type": "code",
   "execution_count": 55,
   "id": "e8082d98",
   "metadata": {},
   "outputs": [
    {
     "name": "stdout",
     "output_type": "stream",
     "text": [
      "new text file\n"
     ]
    }
   ],
   "source": [
    "with open('hgfkslatenchsj.txt',mode='r') as f:\n",
    "    print(f.read())"
   ]
  },
  {
   "cell_type": "code",
   "execution_count": 2,
   "id": "613d797d",
   "metadata": {},
   "outputs": [
    {
     "name": "stdout",
     "output_type": "stream",
     "text": [
      "1\n",
      "2\n",
      "3\n",
      "4\n",
      "5\n",
      "6\n",
      "7\n",
      "8\n",
      "9\n",
      "10\n",
      "11\n"
     ]
    }
   ],
   "source": [
    "mylist = [1,2,3,4,5,6,7,8,9,10,11]     #we are printing each number of a list\n",
    "\n",
    "for num in mylist:\n",
    "    print(num)"
   ]
  },
  {
   "cell_type": "code",
   "execution_count": 3,
   "id": "3a954fb8",
   "metadata": {},
   "outputs": [
    {
     "name": "stdout",
     "output_type": "stream",
     "text": [
      "66\n"
     ]
    }
   ],
   "source": [
    "#sum of the numbers of the list\n",
    "\n",
    "list_sum=0\n",
    "\n",
    "for num in mylist:\n",
    "    list_sum = list_sum + num\n",
    "    \n",
    "print(list_sum)\n"
   ]
  },
  {
   "cell_type": "code",
   "execution_count": 4,
   "id": "1ff81599",
   "metadata": {},
   "outputs": [
    {
     "name": "stdout",
     "output_type": "stream",
     "text": [
      "1\n",
      "3\n",
      "6\n",
      "10\n",
      "15\n",
      "21\n",
      "28\n",
      "36\n",
      "45\n",
      "55\n",
      "66\n"
     ]
    }
   ],
   "source": [
    "list_sum=0\n",
    "\n",
    "for num in mylist:\n",
    "    list_sum = list_sum + num\n",
    "    print(list_sum)"
   ]
  },
  {
   "cell_type": "code",
   "execution_count": 5,
   "id": "81704530",
   "metadata": {},
   "outputs": [
    {
     "name": "stdout",
     "output_type": "stream",
     "text": [
      "Kamalika\n",
      "Kamalika\n",
      "Kamalika\n",
      "Kamalika\n",
      "Kamalika\n",
      "Kamalika\n",
      "Kamalika\n",
      "Kamalika\n",
      "Kamalika\n",
      "Kamalika\n",
      "Kamalika\n"
     ]
    }
   ],
   "source": [
    "mylist = [1,2,3,4,5,6,7,8,9,10,11]     \n",
    "\n",
    "for num in mylist:\n",
    "    print('Kamalika')"
   ]
  },
  {
   "cell_type": "code",
   "execution_count": 7,
   "id": "ae9483e1",
   "metadata": {},
   "outputs": [
    {
     "name": "stdout",
     "output_type": "stream",
     "text": [
      "H\n",
      "e\n",
      "l\n",
      "l\n",
      "o\n",
      " \n",
      "W\n",
      "o\n",
      "r\n",
      "l\n",
      "d\n"
     ]
    }
   ],
   "source": [
    "\"Hello World\"                         #printing each letters of a string\n",
    "\n",
    "for letters in \"Hello World\":\n",
    "    print(letters)"
   ]
  },
  {
   "cell_type": "code",
   "execution_count": 9,
   "id": "13881b17",
   "metadata": {},
   "outputs": [
    {
     "name": "stdout",
     "output_type": "stream",
     "text": [
      "cool\n",
      "cool\n",
      "cool\n",
      "cool\n",
      "cool\n",
      "cool\n",
      "cool\n",
      "cool\n",
      "cool\n",
      "cool\n",
      "cool\n"
     ]
    }
   ],
   "source": [
    "for _ in \"Hello World\":   #cool is printed 11 times as there are 11 characters in Hello World\n",
    "    print('cool')"
   ]
  },
  {
   "cell_type": "code",
   "execution_count": 10,
   "id": "1593b0ca",
   "metadata": {},
   "outputs": [
    {
     "name": "stdout",
     "output_type": "stream",
     "text": [
      "(1, 2, 3, 4)\n",
      "(1, 2, 3, 4)\n",
      "(1, 2, 3, 4)\n",
      "(1, 2, 3, 4)\n"
     ]
    }
   ],
   "source": [
    "tup = (1,2,3,4)\n",
    "\n",
    "for num in tup:\n",
    "    print(tup)"
   ]
  },
  {
   "cell_type": "code",
   "execution_count": 11,
   "id": "ad0edfdd",
   "metadata": {},
   "outputs": [
    {
     "name": "stdout",
     "output_type": "stream",
     "text": [
      "(1, 2)\n",
      "(3, 4)\n",
      "(5, 6)\n",
      "(7, 8)\n"
     ]
    }
   ],
   "source": [
    "mylist = [(1,2),(3,4),(5,6),(7,8)]         #the list contains group of tuples as items\n",
    "for tup in mylist:\n",
    "    print(tup)"
   ]
  },
  {
   "cell_type": "code",
   "execution_count": 13,
   "id": "859d9d6e",
   "metadata": {},
   "outputs": [
    {
     "name": "stdout",
     "output_type": "stream",
     "text": [
      "1\n",
      "2\n",
      "3\n",
      "4\n",
      "5\n",
      "6\n",
      "7\n",
      "8\n"
     ]
    }
   ],
   "source": [
    "for (a,b) in mylist:      #tuple unpacking\n",
    "    print (a)\n",
    "    print (b)"
   ]
  },
  {
   "cell_type": "code",
   "execution_count": 14,
   "id": "dadfcf0e",
   "metadata": {},
   "outputs": [
    {
     "name": "stdout",
     "output_type": "stream",
     "text": [
      "k1\n",
      "k2\n",
      "k3\n"
     ]
    }
   ],
   "source": [
    "d = {'k1':1,'k2':2,'k3':3}   #by default returns only keys\n",
    "\n",
    "for item in d:\n",
    "    print (item)"
   ]
  },
  {
   "cell_type": "code",
   "execution_count": 17,
   "id": "fb59a398",
   "metadata": {},
   "outputs": [
    {
     "name": "stdout",
     "output_type": "stream",
     "text": [
      "1\n",
      "2\n",
      "3\n"
     ]
    }
   ],
   "source": [
    "for item in d.values():\n",
    "    print (item)"
   ]
  },
  {
   "cell_type": "code",
   "execution_count": 18,
   "id": "695da069",
   "metadata": {},
   "outputs": [
    {
     "name": "stdout",
     "output_type": "stream",
     "text": [
      "('k1', 1)\n",
      "('k2', 2)\n",
      "('k3', 3)\n"
     ]
    }
   ],
   "source": [
    "for item in d.items():   #returns key:value pairs\n",
    "    print (item)"
   ]
  },
  {
   "cell_type": "code",
   "execution_count": 51,
   "id": "00e1113a",
   "metadata": {},
   "outputs": [
    {
     "name": "stdout",
     "output_type": "stream",
     "text": [
      "1\n",
      "2\n",
      "3\n"
     ]
    }
   ],
   "source": [
    "for item,value in d.items():\n",
    "    print (value)"
   ]
  },
  {
   "cell_type": "code",
   "execution_count": 22,
   "id": "d7f09945",
   "metadata": {},
   "outputs": [],
   "source": [
    "#while loops continue to execute a block of code WHILE some condition remains true"
   ]
  },
  {
   "cell_type": "code",
   "execution_count": 24,
   "id": "c115375e",
   "metadata": {},
   "outputs": [
    {
     "name": "stdout",
     "output_type": "stream",
     "text": [
      "the current value of x is 0\n",
      "the current value of x is 1\n",
      "the current value of x is 2\n",
      "the current value of x is 3\n",
      "the current value of x is 4\n"
     ]
    }
   ],
   "source": [
    "x = 0\n",
    "\n",
    "while x<5:\n",
    "    print('the current value of x is {}'.format(x))\n",
    "    x = x+1\n",
    "    #x += 1"
   ]
  },
  {
   "cell_type": "code",
   "execution_count": 26,
   "id": "7534dcab",
   "metadata": {},
   "outputs": [
    {
     "name": "stdout",
     "output_type": "stream",
     "text": [
      "end of loop\n"
     ]
    }
   ],
   "source": [
    "x = [1,2,3]\n",
    "\n",
    "for num in x:\n",
    "    pass                 #we did not get syntax error beacuse of the pass keyword\n",
    "\n",
    "\n",
    "print(\"end of loop\")"
   ]
  },
  {
   "cell_type": "code",
   "execution_count": 27,
   "id": "39480471",
   "metadata": {},
   "outputs": [],
   "source": [
    "mystring = 'KOMU'"
   ]
  },
  {
   "cell_type": "code",
   "execution_count": 31,
   "id": "48932a79",
   "metadata": {},
   "outputs": [
    {
     "name": "stdout",
     "output_type": "stream",
     "text": [
      "K\n",
      "O\n"
     ]
    }
   ],
   "source": [
    "for letters in mystring:\n",
    "    if letters == 'M':\n",
    "      break                     #Break keyword breaks out of the current closest enclosing loop\n",
    "    print(letters)"
   ]
  },
  {
   "cell_type": "code",
   "execution_count": 33,
   "id": "97b492f0",
   "metadata": {},
   "outputs": [
    {
     "name": "stdout",
     "output_type": "stream",
     "text": [
      "K\n",
      "O\n",
      "U\n"
     ]
    }
   ],
   "source": [
    "for letters in mystring:\n",
    "    if letters == 'M':\n",
    "      continue                     #Continue keyword goes to the top of the current closest enclosing loop\n",
    "    print(letters)"
   ]
  },
  {
   "cell_type": "code",
   "execution_count": 34,
   "id": "f91a068b",
   "metadata": {},
   "outputs": [
    {
     "name": "stdout",
     "output_type": "stream",
     "text": [
      "0\n",
      "1\n",
      "2\n",
      "3\n",
      "4\n",
      "5\n",
      "6\n",
      "7\n",
      "8\n",
      "9\n"
     ]
    }
   ],
   "source": [
    "for num in range(10):\n",
    "    print(num)"
   ]
  },
  {
   "cell_type": "code",
   "execution_count": 35,
   "id": "75b0868d",
   "metadata": {},
   "outputs": [
    {
     "name": "stdout",
     "output_type": "stream",
     "text": [
      "4\n",
      "5\n",
      "6\n",
      "7\n",
      "8\n",
      "9\n"
     ]
    }
   ],
   "source": [
    "for num in range(4,10):\n",
    "    print(num)"
   ]
  },
  {
   "cell_type": "code",
   "execution_count": 36,
   "id": "0802c253",
   "metadata": {},
   "outputs": [
    {
     "name": "stdout",
     "output_type": "stream",
     "text": [
      "0\n",
      "2\n",
      "4\n",
      "6\n",
      "8\n"
     ]
    }
   ],
   "source": [
    "for num in range(0,10,2):     #range(start,stop,step)\n",
    "    print(num)"
   ]
  },
  {
   "cell_type": "code",
   "execution_count": 40,
   "id": "6bd8f026",
   "metadata": {},
   "outputs": [
    {
     "data": {
      "text/plain": [
       "[0, 2, 4, 6, 8, 10]"
      ]
     },
     "execution_count": 40,
     "metadata": {},
     "output_type": "execute_result"
    }
   ],
   "source": [
    "#to make it a list\n",
    "list(range(0,11,2))\n",
    "    "
   ]
  },
  {
   "cell_type": "code",
   "execution_count": 44,
   "id": "25eb56cb",
   "metadata": {},
   "outputs": [
    {
     "name": "stdout",
     "output_type": "stream",
     "text": [
      "at index 0 the letter is a\n",
      "at index 1 the letter is b\n",
      "at index 2 the letter is c\n",
      "at index 3 the letter is d\n",
      "at index 4 the letter is e\n",
      "at index 5 the letter is f\n",
      "at index 6 the letter is g\n",
      "at index 7 the letter is h\n",
      "at index 8 the letter is i\n",
      "at index 9 the letter is j\n",
      "at index 10 the letter is k\n",
      "at index 11 the letter is l\n"
     ]
    }
   ],
   "source": [
    "index_count = 0\n",
    "\n",
    "for letter in 'abcdefghijkl':\n",
    "    print(\"at index {} the letter is {}\".format(index_count,letter))\n",
    "    index_count += 1"
   ]
  },
  {
   "cell_type": "code",
   "execution_count": 53,
   "id": "cbd7dbdb",
   "metadata": {},
   "outputs": [
    {
     "name": "stdout",
     "output_type": "stream",
     "text": [
      "(0, 't')\n",
      "(1, 'e')\n",
      "(2, 'a')\n",
      "(3, 'c')\n",
      "(4, 'h')\n",
      "(5, 'e')\n",
      "(6, 'r')\n"
     ]
    }
   ],
   "source": [
    "word = 'teacher'\n",
    "\n",
    "for item in enumerate(word):    #enumerate function takes in any sort of iterable object and returns indexcounter and its object\n",
    "    print(item)"
   ]
  },
  {
   "cell_type": "code",
   "execution_count": 52,
   "id": "07ee81b4",
   "metadata": {},
   "outputs": [
    {
     "name": "stdout",
     "output_type": "stream",
     "text": [
      "0\n",
      "t\n",
      "\n",
      "\n",
      "1\n",
      "e\n",
      "\n",
      "\n",
      "2\n",
      "a\n",
      "\n",
      "\n",
      "3\n",
      "c\n",
      "\n",
      "\n",
      "4\n",
      "h\n",
      "\n",
      "\n",
      "5\n",
      "e\n",
      "\n",
      "\n",
      "6\n",
      "r\n",
      "\n",
      "\n"
     ]
    }
   ],
   "source": [
    "for index,letter in enumerate(word):\n",
    "    print(index)\n",
    "    print(letter)\n",
    "    print('\\n')\n",
    "    "
   ]
  },
  {
   "cell_type": "code",
   "execution_count": 49,
   "id": "9ac1b9d4",
   "metadata": {},
   "outputs": [
    {
     "name": "stdout",
     "output_type": "stream",
     "text": [
      "0\n",
      "1\n",
      "2\n",
      "3\n",
      "4\n",
      "5\n",
      "6\n"
     ]
    }
   ],
   "source": [
    "for index,letter in enumerate(word):\n",
    "    print(index)"
   ]
  },
  {
   "cell_type": "code",
   "execution_count": 60,
   "id": "045e2d7d",
   "metadata": {},
   "outputs": [
    {
     "name": "stdout",
     "output_type": "stream",
     "text": [
      "(1, 'a', 500)\n",
      "(2, 'b', 80000)\n",
      "(3, 'c', 900)\n"
     ]
    }
   ],
   "source": [
    "list1=[1,2,3]\n",
    "list2=['a','b','c']\n",
    "list3=[500,80000,900]\n",
    "\n",
    "for item in zip(list1,list2,list3):\n",
    "    print(item)\n",
    "\n"
   ]
  },
  {
   "cell_type": "code",
   "execution_count": 59,
   "id": "f05a303d",
   "metadata": {},
   "outputs": [
    {
     "name": "stdout",
     "output_type": "stream",
     "text": [
      "1\n",
      "a\n",
      "\n",
      "\n",
      "2\n",
      "b\n",
      "\n",
      "\n",
      "3\n",
      "c\n",
      "\n",
      "\n"
     ]
    }
   ],
   "source": [
    "for index,letter in zip(list1,list2):\n",
    "    print(index)\n",
    "    print(letter)\n",
    "    print('\\n')"
   ]
  },
  {
   "cell_type": "code",
   "execution_count": 61,
   "id": "7b5b4730",
   "metadata": {},
   "outputs": [
    {
     "name": "stdout",
     "output_type": "stream",
     "text": [
      "1\n",
      "500\n",
      "\n",
      "\n",
      "2\n",
      "80000\n",
      "\n",
      "\n",
      "3\n",
      "900\n",
      "\n",
      "\n"
     ]
    }
   ],
   "source": [
    "for f,g,h in zip(list1,list2,list3):\n",
    "    print(f)\n",
    "    print(h)\n",
    "    print('\\n')"
   ]
  },
  {
   "cell_type": "code",
   "execution_count": 62,
   "id": "4cb2ccca",
   "metadata": {},
   "outputs": [
    {
     "data": {
      "text/plain": [
       "False"
      ]
     },
     "execution_count": 62,
     "metadata": {},
     "output_type": "execute_result"
    }
   ],
   "source": [
    "#to check if something is in the list\n",
    "\n",
    "'x' in [3,6,9]"
   ]
  },
  {
   "cell_type": "code",
   "execution_count": 63,
   "id": "1f83ae6a",
   "metadata": {},
   "outputs": [
    {
     "data": {
      "text/plain": [
       "True"
      ]
     },
     "execution_count": 63,
     "metadata": {},
     "output_type": "execute_result"
    }
   ],
   "source": [
    "100 in [200,100,10]"
   ]
  },
  {
   "cell_type": "code",
   "execution_count": 64,
   "id": "567c3669",
   "metadata": {},
   "outputs": [],
   "source": [
    "d = {'key1': 30}"
   ]
  },
  {
   "cell_type": "code",
   "execution_count": 65,
   "id": "11a32de3",
   "metadata": {},
   "outputs": [
    {
     "data": {
      "text/plain": [
       "False"
      ]
     },
     "execution_count": 65,
     "metadata": {},
     "output_type": "execute_result"
    }
   ],
   "source": [
    "60 in d.keys()"
   ]
  },
  {
   "cell_type": "code",
   "execution_count": 66,
   "id": "fba0913a",
   "metadata": {},
   "outputs": [
    {
     "data": {
      "text/plain": [
       "False"
      ]
     },
     "execution_count": 66,
     "metadata": {},
     "output_type": "execute_result"
    }
   ],
   "source": [
    "30 in d.keys()"
   ]
  },
  {
   "cell_type": "code",
   "execution_count": 67,
   "id": "dca16927",
   "metadata": {},
   "outputs": [
    {
     "data": {
      "text/plain": [
       "True"
      ]
     },
     "execution_count": 67,
     "metadata": {},
     "output_type": "execute_result"
    }
   ],
   "source": [
    "30 in d.values()"
   ]
  },
  {
   "cell_type": "code",
   "execution_count": 68,
   "id": "788f4d40",
   "metadata": {},
   "outputs": [
    {
     "data": {
      "text/plain": [
       "True"
      ]
     },
     "execution_count": 68,
     "metadata": {},
     "output_type": "execute_result"
    }
   ],
   "source": [
    "'key1' in d"
   ]
  },
  {
   "cell_type": "code",
   "execution_count": 69,
   "id": "2743ed4b",
   "metadata": {},
   "outputs": [],
   "source": [
    "#built in RANDOM library\n",
    "\n",
    "from random import shuffle"
   ]
  },
  {
   "cell_type": "code",
   "execution_count": 70,
   "id": "9304ff51",
   "metadata": {},
   "outputs": [],
   "source": [
    "list=[6,7,8,9,10,11,12]"
   ]
  },
  {
   "cell_type": "code",
   "execution_count": 71,
   "id": "38f29633",
   "metadata": {},
   "outputs": [],
   "source": [
    "shuffle(list)"
   ]
  },
  {
   "cell_type": "code",
   "execution_count": 72,
   "id": "c9a0d159",
   "metadata": {},
   "outputs": [
    {
     "data": {
      "text/plain": [
       "[9, 10, 8, 7, 6, 12, 11]"
      ]
     },
     "execution_count": 72,
     "metadata": {},
     "output_type": "execute_result"
    }
   ],
   "source": [
    "list"
   ]
  },
  {
   "cell_type": "code",
   "execution_count": 73,
   "id": "9a59d6fb",
   "metadata": {},
   "outputs": [],
   "source": [
    "from random import randint"
   ]
  },
  {
   "cell_type": "code",
   "execution_count": 75,
   "id": "70375348",
   "metadata": {},
   "outputs": [
    {
     "data": {
      "text/plain": [
       "720"
      ]
     },
     "execution_count": 75,
     "metadata": {},
     "output_type": "execute_result"
    }
   ],
   "source": [
    "randint(0,1000)  #syntax= randint(lower_range,upper_range)"
   ]
  },
  {
   "cell_type": "code",
   "execution_count": 76,
   "id": "7888dcdc",
   "metadata": {},
   "outputs": [
    {
     "name": "stdout",
     "output_type": "stream",
     "text": [
      "what is your name?Komu\n"
     ]
    }
   ],
   "source": [
    "#to take user input\n",
    "name= input('what is your name?')"
   ]
  },
  {
   "cell_type": "code",
   "execution_count": 77,
   "id": "d6a22fe2",
   "metadata": {},
   "outputs": [
    {
     "data": {
      "text/plain": [
       "'Komu'"
      ]
     },
     "execution_count": 77,
     "metadata": {},
     "output_type": "execute_result"
    }
   ],
   "source": [
    "name"
   ]
  },
  {
   "cell_type": "code",
   "execution_count": 78,
   "id": "e1c4984a",
   "metadata": {},
   "outputs": [
    {
     "name": "stdout",
     "output_type": "stream",
     "text": [
      "what is the number?10\n"
     ]
    }
   ],
   "source": [
    "num= input('what is the number?')  #input function always use objects as string"
   ]
  },
  {
   "cell_type": "code",
   "execution_count": 79,
   "id": "77ffa547",
   "metadata": {},
   "outputs": [
    {
     "data": {
      "text/plain": [
       "'10'"
      ]
     },
     "execution_count": 79,
     "metadata": {},
     "output_type": "execute_result"
    }
   ],
   "source": [
    "num"
   ]
  },
  {
   "cell_type": "code",
   "execution_count": 80,
   "id": "e5d03542",
   "metadata": {},
   "outputs": [
    {
     "data": {
      "text/plain": [
       "str"
      ]
     },
     "execution_count": 80,
     "metadata": {},
     "output_type": "execute_result"
    }
   ],
   "source": [
    "type(num)"
   ]
  },
  {
   "cell_type": "code",
   "execution_count": 81,
   "id": "769ff3ec",
   "metadata": {},
   "outputs": [
    {
     "data": {
      "text/plain": [
       "10.0"
      ]
     },
     "execution_count": 81,
     "metadata": {},
     "output_type": "execute_result"
    }
   ],
   "source": [
    "float(num)"
   ]
  },
  {
   "cell_type": "code",
   "execution_count": 84,
   "id": "467992cb",
   "metadata": {},
   "outputs": [],
   "source": [
    "newlist = [x for x in 'tiger']    #list comprehension"
   ]
  },
  {
   "cell_type": "code",
   "execution_count": 83,
   "id": "d1b602fb",
   "metadata": {},
   "outputs": [
    {
     "data": {
      "text/plain": [
       "['t', 'i', 'g', 'e', 'r']"
      ]
     },
     "execution_count": 83,
     "metadata": {},
     "output_type": "execute_result"
    }
   ],
   "source": [
    "newlist"
   ]
  },
  {
   "cell_type": "code",
   "execution_count": 87,
   "id": "d3e84f09",
   "metadata": {},
   "outputs": [],
   "source": [
    "mylist = [num for num in range(0,11)]"
   ]
  },
  {
   "cell_type": "code",
   "execution_count": 88,
   "id": "58becd35",
   "metadata": {},
   "outputs": [
    {
     "data": {
      "text/plain": [
       "[0, 1, 2, 3, 4, 5, 6, 7, 8, 9, 10]"
      ]
     },
     "execution_count": 88,
     "metadata": {},
     "output_type": "execute_result"
    }
   ],
   "source": [
    "mylist"
   ]
  },
  {
   "cell_type": "code",
   "execution_count": 89,
   "id": "b2ec2bf5",
   "metadata": {},
   "outputs": [],
   "source": [
    "mylist = [num**2 for num in range(0,11)]"
   ]
  },
  {
   "cell_type": "code",
   "execution_count": 90,
   "id": "c11d6630",
   "metadata": {},
   "outputs": [
    {
     "data": {
      "text/plain": [
       "[0, 1, 4, 9, 16, 25, 36, 49, 64, 81, 100]"
      ]
     },
     "execution_count": 90,
     "metadata": {},
     "output_type": "execute_result"
    }
   ],
   "source": [
    "mylist"
   ]
  },
  {
   "cell_type": "code",
   "execution_count": 93,
   "id": "5a2496bb",
   "metadata": {},
   "outputs": [],
   "source": [
    "mylist = [num for num in range(1,11) if num%2 == 0]"
   ]
  },
  {
   "cell_type": "code",
   "execution_count": 94,
   "id": "9d5076fc",
   "metadata": {},
   "outputs": [
    {
     "data": {
      "text/plain": [
       "[2, 4, 6, 8, 10]"
      ]
     },
     "execution_count": 94,
     "metadata": {},
     "output_type": "execute_result"
    }
   ],
   "source": [
    "mylist"
   ]
  },
  {
   "cell_type": "code",
   "execution_count": 100,
   "id": "f1e6bab3",
   "metadata": {},
   "outputs": [],
   "source": [
    "#celcius to farenhite conversion\n",
    "\n",
    "celcius = [10,50,40]\n",
    "farenhite = [( (9/5)*temp + 32) for temp in celcius]"
   ]
  },
  {
   "cell_type": "code",
   "execution_count": 101,
   "id": "0d47c507",
   "metadata": {},
   "outputs": [
    {
     "data": {
      "text/plain": [
       "[50.0, 122.0, 104.0]"
      ]
     },
     "execution_count": 101,
     "metadata": {},
     "output_type": "execute_result"
    }
   ],
   "source": [
    "farenhite"
   ]
  },
  {
   "cell_type": "code",
   "execution_count": 102,
   "id": "7c230765",
   "metadata": {},
   "outputs": [],
   "source": [
    "farenhite = []\n",
    "\n",
    "for temp in celcius:\n",
    "    farenhite.append((9/5)*temp + 32)"
   ]
  },
  {
   "cell_type": "code",
   "execution_count": 103,
   "id": "7a52a2bb",
   "metadata": {},
   "outputs": [
    {
     "data": {
      "text/plain": [
       "[50.0, 122.0, 104.0]"
      ]
     },
     "execution_count": 103,
     "metadata": {},
     "output_type": "execute_result"
    }
   ],
   "source": [
    "farenhite"
   ]
  },
  {
   "cell_type": "code",
   "execution_count": 122,
   "id": "21d252cf",
   "metadata": {},
   "outputs": [
    {
     "name": "stdout",
     "output_type": "stream",
     "text": [
      "odd\n",
      "even\n",
      "odd\n",
      "even\n",
      "odd\n",
      "even\n",
      "odd\n",
      "even\n",
      "odd\n",
      "even\n"
     ]
    }
   ],
   "source": [
    "\n",
    "\n",
    " for x in (range(1,11)):\n",
    "    if x%2==0:\n",
    "        print('even')\n",
    "    else:\n",
    "        print('odd')"
   ]
  },
  {
   "cell_type": "code",
   "execution_count": 1,
   "id": "56e0633a",
   "metadata": {},
   "outputs": [],
   "source": [
    "def say_hello(name):\n",
    "    print(f'hello{name}')"
   ]
  },
  {
   "cell_type": "code",
   "execution_count": 5,
   "id": "c14ab94d",
   "metadata": {},
   "outputs": [
    {
     "name": "stdout",
     "output_type": "stream",
     "text": [
      "hello komu\n"
     ]
    }
   ],
   "source": [
    "say_hello(' komu')"
   ]
  },
  {
   "cell_type": "code",
   "execution_count": 16,
   "id": "d3943a2e",
   "metadata": {},
   "outputs": [],
   "source": [
    "def say_hello(name = ' Kamalika'):    #here we are providing default name to the argument name, so during calling the function argument name is not required\n",
    "    print(f'hello {name}')"
   ]
  },
  {
   "cell_type": "code",
   "execution_count": 15,
   "id": "d7616a58",
   "metadata": {},
   "outputs": [
    {
     "name": "stdout",
     "output_type": "stream",
     "text": [
      "hello  Kamalika\n"
     ]
    }
   ],
   "source": [
    "say_hello()"
   ]
  },
  {
   "cell_type": "code",
   "execution_count": 17,
   "id": "348afdf5",
   "metadata": {},
   "outputs": [],
   "source": [
    "#return true if any number is even inside a list"
   ]
  },
  {
   "cell_type": "code",
   "execution_count": 27,
   "id": "afd5104b",
   "metadata": {},
   "outputs": [],
   "source": [
    "def check_even_list(num_list):\n",
    "    \n",
    "    for number in num_list:\n",
    "        if number%2 == 0:\n",
    "            return True\n",
    "        else:\n",
    "            pass\n",
    "    return False"
   ]
  },
  {
   "cell_type": "code",
   "execution_count": 28,
   "id": "27e9fe87",
   "metadata": {},
   "outputs": [
    {
     "data": {
      "text/plain": [
       "False"
      ]
     },
     "execution_count": 28,
     "metadata": {},
     "output_type": "execute_result"
    }
   ],
   "source": [
    "check_even_list([1,3,5])"
   ]
  },
  {
   "cell_type": "code",
   "execution_count": 26,
   "id": "e5dd2a9d",
   "metadata": {},
   "outputs": [
    {
     "data": {
      "text/plain": [
       "True"
      ]
     },
     "execution_count": 26,
     "metadata": {},
     "output_type": "execute_result"
    }
   ],
   "source": [
    "check_even_list([8,10,1,1,3])"
   ]
  },
  {
   "cell_type": "code",
   "execution_count": 29,
   "id": "d412386b",
   "metadata": {},
   "outputs": [
    {
     "data": {
      "text/plain": [
       "True"
      ]
     },
     "execution_count": 29,
     "metadata": {},
     "output_type": "execute_result"
    }
   ],
   "source": [
    "check_even_list([1,2,5])"
   ]
  },
  {
   "cell_type": "code",
   "execution_count": 30,
   "id": "9ca96f64",
   "metadata": {},
   "outputs": [],
   "source": [
    "#return all the even numbers in a list"
   ]
  },
  {
   "cell_type": "code",
   "execution_count": 35,
   "id": "f12eaebd",
   "metadata": {},
   "outputs": [],
   "source": [
    "def check_even_list(num_list):\n",
    "    \n",
    "    even_num_list = []   #placeholder variable\n",
    "    \n",
    "    for number in num_list:\n",
    "        if number%2 == 0:\n",
    "            even_num_list.append(number)\n",
    "        else:\n",
    "            pass\n",
    "    return even_num_list\n",
    "           "
   ]
  },
  {
   "cell_type": "code",
   "execution_count": 39,
   "id": "cb6cb26a",
   "metadata": {},
   "outputs": [
    {
     "data": {
      "text/plain": [
       "[2, 6, 8]"
      ]
     },
     "execution_count": 39,
     "metadata": {},
     "output_type": "execute_result"
    }
   ],
   "source": [
    "check_even_list([2,6,8,9,3,11])"
   ]
  },
  {
   "cell_type": "code",
   "execution_count": 10,
   "id": "fb2e0642",
   "metadata": {},
   "outputs": [],
   "source": [
    "work_hours = [('komu',100),('sharmila',700),('milani',1000)]"
   ]
  },
  {
   "cell_type": "code",
   "execution_count": 11,
   "id": "0a0b3f31",
   "metadata": {},
   "outputs": [],
   "source": [
    "def best_employee(work_hours):    #from the above list find out the best employee based on maximum hours \n",
    "    current_max = 0\n",
    "    employee_of_month = ''\n",
    "    \n",
    "    for employee,hour in work_hours:\n",
    "        if hour>current_max:\n",
    "            current_max = hour\n",
    "            employee_of_month = employee\n",
    "        else:\n",
    "            pass\n",
    "    return(employee_of_month,current_max)"
   ]
  },
  {
   "cell_type": "code",
   "execution_count": 12,
   "id": "77198e90",
   "metadata": {},
   "outputs": [],
   "source": [
    "result = best_employee(work_hours)"
   ]
  },
  {
   "cell_type": "code",
   "execution_count": 13,
   "id": "ff0ff19c",
   "metadata": {},
   "outputs": [
    {
     "data": {
      "text/plain": [
       "('milani', 1000)"
      ]
     },
     "execution_count": 13,
     "metadata": {},
     "output_type": "execute_result"
    }
   ],
   "source": [
    "result"
   ]
  },
  {
   "cell_type": "code",
   "execution_count": 14,
   "id": "271ed9cc",
   "metadata": {},
   "outputs": [],
   "source": [
    "name,hours = best_employee(work_hours)   #for tuple unpacking purpose"
   ]
  },
  {
   "cell_type": "code",
   "execution_count": 15,
   "id": "d807a563",
   "metadata": {},
   "outputs": [
    {
     "data": {
      "text/plain": [
       "'milani'"
      ]
     },
     "execution_count": 15,
     "metadata": {},
     "output_type": "execute_result"
    }
   ],
   "source": [
    "name"
   ]
  },
  {
   "cell_type": "code",
   "execution_count": 16,
   "id": "3eebf5e3",
   "metadata": {},
   "outputs": [
    {
     "data": {
      "text/plain": [
       "1000"
      ]
     },
     "execution_count": 16,
     "metadata": {},
     "output_type": "execute_result"
    }
   ],
   "source": [
    "hours"
   ]
  },
  {
   "cell_type": "code",
   "execution_count": 1,
   "id": "4b6511c9",
   "metadata": {},
   "outputs": [],
   "source": [
    "example_list = [1,2,5,8,9,4]"
   ]
  },
  {
   "cell_type": "code",
   "execution_count": 2,
   "id": "49abdd5e",
   "metadata": {},
   "outputs": [],
   "source": [
    "from random import shuffle"
   ]
  },
  {
   "cell_type": "code",
   "execution_count": 3,
   "id": "f6e97496",
   "metadata": {},
   "outputs": [],
   "source": [
    "def shuffle_list(mylist):\n",
    "    shuffle(mylist)\n",
    "    return mylist"
   ]
  },
  {
   "cell_type": "code",
   "execution_count": 4,
   "id": "e66f4c53",
   "metadata": {},
   "outputs": [],
   "source": [
    "result = shuffle_list(example_list)"
   ]
  },
  {
   "cell_type": "code",
   "execution_count": 5,
   "id": "c4fb45b5",
   "metadata": {},
   "outputs": [
    {
     "data": {
      "text/plain": [
       "[1, 9, 4, 5, 2, 8]"
      ]
     },
     "execution_count": 5,
     "metadata": {},
     "output_type": "execute_result"
    }
   ],
   "source": [
    "result"
   ]
  },
  {
   "cell_type": "code",
   "execution_count": 32,
   "id": "f3b508b9",
   "metadata": {},
   "outputs": [],
   "source": [
    "mylist = [0,'O',100,'', 56]"
   ]
  },
  {
   "cell_type": "code",
   "execution_count": 33,
   "id": "16ff166b",
   "metadata": {},
   "outputs": [
    {
     "data": {
      "text/plain": [
       "[56, 100, '', 0, 'O']"
      ]
     },
     "execution_count": 33,
     "metadata": {},
     "output_type": "execute_result"
    }
   ],
   "source": [
    "shuffle_list(mylist)"
   ]
  },
  {
   "cell_type": "code",
   "execution_count": 34,
   "id": "15324176",
   "metadata": {},
   "outputs": [],
   "source": [
    "def player_guess():\n",
    "    guess = ''\n",
    "    \n",
    "    while guess not in ['0','1','2','3','4']:\n",
    "        guess = input(\"pick a number: 0,1,2,3 or 4\")\n",
    "        \n",
    "    return int(guess)"
   ]
  },
  {
   "cell_type": "code",
   "execution_count": 35,
   "id": "347aedfc",
   "metadata": {},
   "outputs": [
    {
     "name": "stdout",
     "output_type": "stream",
     "text": [
      "pick a number: 0,1,2,3 or 42\n"
     ]
    },
    {
     "data": {
      "text/plain": [
       "2"
      ]
     },
     "execution_count": 35,
     "metadata": {},
     "output_type": "execute_result"
    }
   ],
   "source": [
    "player_guess()"
   ]
  },
  {
   "cell_type": "code",
   "execution_count": 22,
   "id": "55dd8ee3",
   "metadata": {},
   "outputs": [
    {
     "name": "stdout",
     "output_type": "stream",
     "text": [
      "pick a number: 0,1,2,3 or 44\n"
     ]
    },
    {
     "data": {
      "text/plain": [
       "4"
      ]
     },
     "execution_count": 22,
     "metadata": {},
     "output_type": "execute_result"
    }
   ],
   "source": [
    "player_guess()"
   ]
  },
  {
   "cell_type": "code",
   "execution_count": 36,
   "id": "dce65a3c",
   "metadata": {},
   "outputs": [],
   "source": [
    "def check_guess(mylist,guess):\n",
    "    if another_list[guess] == 'O':\n",
    "        print(\"correct\")\n",
    "    else:\n",
    "        print(\"wrong guess\")\n",
    "        print(mylist)"
   ]
  },
  {
   "cell_type": "code",
   "execution_count": 38,
   "id": "bdf0f61d",
   "metadata": {},
   "outputs": [
    {
     "name": "stdout",
     "output_type": "stream",
     "text": [
      "pick a number: 0,1,2,3 or 42\n",
      "correct\n"
     ]
    }
   ],
   "source": [
    "#initial list\n",
    "mylist = [0,'O',100,'', 56]\n",
    "\n",
    "#shuffled list\n",
    "mixedup_list = shuffle(mylist)\n",
    "\n",
    "#user guess\n",
    "guess = player_guess()\n",
    "\n",
    "#check guess\n",
    "check_guess(mixedup_list,guess)"
   ]
  },
  {
   "cell_type": "code",
   "execution_count": 6,
   "id": "91a931ad",
   "metadata": {},
   "outputs": [],
   "source": [
    "def myfunc(**kwargs):\n",
    "    print(kwargs)\n",
    "    if 'fruit' in kwargs:\n",
    "        print('my fav fruit is {}'.format(kwargs['fruit']))\n",
    "    else:\n",
    "        print('i dont have any fav fruit')"
   ]
  },
  {
   "cell_type": "code",
   "execution_count": 10,
   "id": "fff6226c",
   "metadata": {},
   "outputs": [
    {
     "name": "stdout",
     "output_type": "stream",
     "text": [
      "{'fruit': 'apple', 'veggie': 'potato'}\n",
      "my fav fruit is apple\n"
     ]
    }
   ],
   "source": [
    "myfunc(fruit ='apple',veggie = 'potato')"
   ]
  },
  {
   "cell_type": "code",
   "execution_count": 13,
   "id": "11b21808",
   "metadata": {},
   "outputs": [],
   "source": [
    "def myfunc(*args,**kwargs):\n",
    "    print(args)\n",
    "    print(kwargs)\n",
    "    \n",
    "    print('I would like to have {} {}'.format(args[1],kwargs['fruit']))"
   ]
  },
  {
   "cell_type": "code",
   "execution_count": 14,
   "id": "2aaae143",
   "metadata": {},
   "outputs": [
    {
     "name": "stdout",
     "output_type": "stream",
     "text": [
      "(10, 20, 30, 40)\n",
      "{'food': 'french fries', 'fruit': 'orange', 'snacks': 'chips'}\n",
      "I would like to have 20 orange\n"
     ]
    }
   ],
   "source": [
    "myfunc(10,20,30,40,food='french fries',fruit='orange',snacks='chips')"
   ]
  },
  {
   "cell_type": "code",
   "execution_count": 1,
   "id": "d1b16f85",
   "metadata": {},
   "outputs": [],
   "source": [
    "c = 'Kamalika'"
   ]
  },
  {
   "cell_type": "code",
   "execution_count": 2,
   "id": "8874955f",
   "metadata": {},
   "outputs": [
    {
     "data": {
      "text/plain": [
       "str"
      ]
     },
     "execution_count": 2,
     "metadata": {},
     "output_type": "execute_result"
    }
   ],
   "source": [
    "type(c)"
   ]
  },
  {
   "cell_type": "code",
   "execution_count": 3,
   "id": "0cc2fc3d",
   "metadata": {},
   "outputs": [],
   "source": [
    "def square(num):\n",
    "    return num**2"
   ]
  },
  {
   "cell_type": "code",
   "execution_count": 6,
   "id": "a64c1a80",
   "metadata": {},
   "outputs": [],
   "source": [
    "my_list=[1,2,3,4,5]"
   ]
  },
  {
   "cell_type": "code",
   "execution_count": 7,
   "id": "2f46c5bd",
   "metadata": {},
   "outputs": [
    {
     "name": "stdout",
     "output_type": "stream",
     "text": [
      "1\n",
      "4\n",
      "9\n",
      "16\n",
      "25\n"
     ]
    }
   ],
   "source": [
    "for item in map(square,my_list):\n",
    "    print(item)"
   ]
  },
  {
   "cell_type": "code",
   "execution_count": 8,
   "id": "a27d7c1c",
   "metadata": {},
   "outputs": [],
   "source": [
    "def splicer(mystring):\n",
    "    if len(mystring)%2 == 0:\n",
    "        return 'even'\n",
    "    else:\n",
    "        return mystring[0]"
   ]
  },
  {
   "cell_type": "code",
   "execution_count": 9,
   "id": "0216a2fb",
   "metadata": {},
   "outputs": [],
   "source": [
    "names = ['KOMU','MOLLY','SANDY']"
   ]
  },
  {
   "cell_type": "code",
   "execution_count": 14,
   "id": "d7ce9eae",
   "metadata": {},
   "outputs": [
    {
     "name": "stdout",
     "output_type": "stream",
     "text": [
      "even\n",
      "M\n",
      "S\n"
     ]
    }
   ],
   "source": [
    "for item in map(splicer,names):\n",
    "    print (item)"
   ]
  },
  {
   "cell_type": "code",
   "execution_count": 6,
   "id": "700baee0",
   "metadata": {},
   "outputs": [],
   "source": [
    "def check_even(num):\n",
    "    return num%2 == 0"
   ]
  },
  {
   "cell_type": "code",
   "execution_count": 7,
   "id": "1149300c",
   "metadata": {},
   "outputs": [],
   "source": [
    "mynums = [2,3,8,7,4,10]"
   ]
  },
  {
   "cell_type": "code",
   "execution_count": 8,
   "id": "39ceaa22",
   "metadata": {},
   "outputs": [
    {
     "name": "stdout",
     "output_type": "stream",
     "text": [
      "2\n",
      "8\n",
      "4\n",
      "10\n"
     ]
    }
   ],
   "source": [
    "for item in filter(check_even,mynums):\n",
    "    print(item)"
   ]
  },
  {
   "cell_type": "code",
   "execution_count": 12,
   "id": "7be1235c",
   "metadata": {},
   "outputs": [],
   "source": [
    "square = lambda num: num**2    #lambda function"
   ]
  },
  {
   "cell_type": "code",
   "execution_count": 10,
   "id": "99ca2b41",
   "metadata": {},
   "outputs": [
    {
     "data": {
      "text/plain": [
       "9"
      ]
     },
     "execution_count": 10,
     "metadata": {},
     "output_type": "execute_result"
    }
   ],
   "source": [
    "square(3)"
   ]
  },
  {
   "cell_type": "code",
   "execution_count": 11,
   "id": "c54ae08f",
   "metadata": {},
   "outputs": [
    {
     "data": {
      "text/plain": [
       "[4, 9, 64, 49, 16, 100]"
      ]
     },
     "execution_count": 11,
     "metadata": {},
     "output_type": "execute_result"
    }
   ],
   "source": [
    "list(map(lambda num:num**2,mynums))"
   ]
  },
  {
   "cell_type": "code",
   "execution_count": 13,
   "id": "7a283691",
   "metadata": {},
   "outputs": [
    {
     "data": {
      "text/plain": [
       "[2, 8, 4, 10]"
      ]
     },
     "execution_count": 13,
     "metadata": {},
     "output_type": "execute_result"
    }
   ],
   "source": [
    "list(filter(lambda num: num%2 == 0,mynums))\n",
    "   "
   ]
  },
  {
   "cell_type": "code",
   "execution_count": 14,
   "id": "15ac469f",
   "metadata": {},
   "outputs": [],
   "source": [
    "#function to create first character of  strings in a list\n",
    "\n",
    "name_list = ['Minu','Chandra','Piyali']"
   ]
  },
  {
   "cell_type": "code",
   "execution_count": 33,
   "id": "c73b9b65",
   "metadata": {},
   "outputs": [
    {
     "data": {
      "text/plain": [
       "['Minu', 'Chandra', 'Piyali']"
      ]
     },
     "execution_count": 33,
     "metadata": {},
     "output_type": "execute_result"
    }
   ],
   "source": [
    "name_list"
   ]
  },
  {
   "cell_type": "code",
   "execution_count": 45,
   "id": "15431d7e",
   "metadata": {},
   "outputs": [],
   "source": [
    "def fetch_letter(name_list):\n",
    "    result = []             #storing first letters in his string\n",
    "    for name in name_list:\n",
    "         result.append(name[0])  #appending first letters to result list\n",
    "    return result\n",
    "        \n",
    "        \n",
    "        \n",
    "    \n",
    "       \n",
    "        \n",
    "    "
   ]
  },
  {
   "cell_type": "code",
   "execution_count": 46,
   "id": "8ce1f76f",
   "metadata": {},
   "outputs": [],
   "source": [
    "first_letters = fetch_letter(name_list)"
   ]
  },
  {
   "cell_type": "code",
   "execution_count": 47,
   "id": "e0ac4ba5",
   "metadata": {},
   "outputs": [
    {
     "name": "stdout",
     "output_type": "stream",
     "text": [
      "['M', 'C', 'P']\n"
     ]
    }
   ],
   "source": [
    "print(first_letters)"
   ]
  },
  {
   "cell_type": "code",
   "execution_count": 48,
   "id": "90c43cc7",
   "metadata": {},
   "outputs": [
    {
     "data": {
      "text/plain": [
       "['M', 'C', 'P']"
      ]
     },
     "execution_count": 48,
     "metadata": {},
     "output_type": "execute_result"
    }
   ],
   "source": [
    "#using lambda function\n",
    "\n",
    "list(map(lambda name:name[0],name_list))"
   ]
  },
  {
   "cell_type": "code",
   "execution_count": 49,
   "id": "f4260c2f",
   "metadata": {},
   "outputs": [
    {
     "data": {
      "text/plain": [
       "['uniM', 'ardnahC', 'ilayiP']"
      ]
     },
     "execution_count": 49,
     "metadata": {},
     "output_type": "execute_result"
    }
   ],
   "source": [
    "list(map(lambda name:name[::-1],name_list))"
   ]
  },
  {
   "cell_type": "code",
   "execution_count": 5,
   "id": "c101a3ca",
   "metadata": {},
   "outputs": [],
   "source": [
    "def user_choice():                   #taking user input as a number. If user input is a string , it wont be validated\n",
    "    choice = 'wrong'\n",
    "    \n",
    "    while choice.isdigit() == False :            #isdigit() method returns True if there are digits within a string\n",
    "        \n",
    "        choice = input(\"enter value within (0 to 10):\")\n",
    "        if choice.isdigit() == False:\n",
    "            print(\"sorry that is not a digit\")\n",
    "        \n",
    "       \n",
    "    return int(choice)"
   ]
  },
  {
   "cell_type": "code",
   "execution_count": 6,
   "id": "47fa00eb",
   "metadata": {
    "scrolled": true
   },
   "outputs": [
    {
     "name": "stdout",
     "output_type": "stream",
     "text": [
      "enter value within (0 to 10):ten\n",
      "sorry that is not a digit\n",
      "enter value within (0 to 10):5\n"
     ]
    },
    {
     "data": {
      "text/plain": [
       "5"
      ]
     },
     "execution_count": 6,
     "metadata": {},
     "output_type": "execute_result"
    }
   ],
   "source": [
    "user_choice()"
   ]
  },
  {
   "cell_type": "code",
   "execution_count": 3,
   "id": "e9c40bd7",
   "metadata": {},
   "outputs": [],
   "source": [
    "input = '100'"
   ]
  },
  {
   "cell_type": "code",
   "execution_count": 4,
   "id": "8b37ad7a",
   "metadata": {},
   "outputs": [
    {
     "data": {
      "text/plain": [
       "True"
      ]
     },
     "execution_count": 4,
     "metadata": {},
     "output_type": "execute_result"
    }
   ],
   "source": [
    "input.isdigit()"
   ]
  },
  {
   "cell_type": "code",
   "execution_count": null,
   "id": "9b2f15e1",
   "metadata": {},
   "outputs": [],
   "source": []
  },
  {
   "cell_type": "raw",
   "id": "b5aae10a",
   "metadata": {},
   "source": []
  },
  {
   "cell_type": "code",
   "execution_count": 1,
   "id": "5328c772",
   "metadata": {},
   "outputs": [],
   "source": [
    "result = 'Kamalika'"
   ]
  },
  {
   "cell_type": "code",
   "execution_count": 2,
   "id": "84732f1a",
   "metadata": {},
   "outputs": [],
   "source": [
    "acceptable_values = [1,2,3,5]"
   ]
  },
  {
   "cell_type": "code",
   "execution_count": 3,
   "id": "25eaa946",
   "metadata": {},
   "outputs": [
    {
     "data": {
      "text/plain": [
       "False"
      ]
     },
     "execution_count": 3,
     "metadata": {},
     "output_type": "execute_result"
    }
   ],
   "source": [
    "result in acceptable_values"
   ]
  },
  {
   "cell_type": "code",
   "execution_count": 4,
   "id": "3977c41e",
   "metadata": {},
   "outputs": [
    {
     "data": {
      "text/plain": [
       "True"
      ]
     },
     "execution_count": 4,
     "metadata": {},
     "output_type": "execute_result"
    }
   ],
   "source": [
    "result not in acceptable_values"
   ]
  },
  {
   "cell_type": "code",
   "execution_count": 5,
   "id": "e7f23bf0",
   "metadata": {},
   "outputs": [],
   "source": [
    "def user_choice():           \n",
    "    choice = 'wrong'\n",
    "    acceptable_range = range(0,10)\n",
    "    within_range = False\n",
    "    \n",
    "    \n",
    "    while choice.isdigit() == False or within_range == False: \n",
    "        \n",
    "        choice = input(\"enter value within (0 to 10):\")\n",
    "        \n",
    "        #Digit check\n",
    "        if choice.isdigit() == False:\n",
    "            print(\"sorry that is not a digit\")\n",
    "        \n",
    "        #range check\n",
    "        if choice.isdigit()== True:\n",
    "            if int(choice) in acceptable_range:\n",
    "                within_range = True\n",
    "            else:\n",
    "                print(\"sorry you are not in acceptable range\")\n",
    "                within_range = False\n",
    "            \n",
    "        \n",
    "       \n",
    "    return int(choice)"
   ]
  },
  {
   "cell_type": "code",
   "execution_count": 6,
   "id": "091521e6",
   "metadata": {},
   "outputs": [
    {
     "name": "stdout",
     "output_type": "stream",
     "text": [
      "enter value within (0 to 10):ten\n",
      "sorry that is not a digit\n",
      "enter value within (0 to 10):100\n",
      "sorry you are not in acceptable range\n",
      "enter value within (0 to 10):10\n",
      "sorry you are not in acceptable range\n",
      "enter value within (0 to 10):0\n"
     ]
    },
    {
     "data": {
      "text/plain": [
       "0"
      ]
     },
     "execution_count": 6,
     "metadata": {},
     "output_type": "execute_result"
    }
   ],
   "source": [
    "user_choice()"
   ]
  },
  {
   "cell_type": "code",
   "execution_count": 1,
   "id": "c77f937f",
   "metadata": {},
   "outputs": [],
   "source": [
    "game_list = [0,1,2]"
   ]
  },
  {
   "cell_type": "code",
   "execution_count": 2,
   "id": "ac9edf3d",
   "metadata": {},
   "outputs": [],
   "source": [
    "def display_game(game_list):\n",
    "    print(\"here is the game list\")\n",
    "    print(game_list)"
   ]
  },
  {
   "cell_type": "code",
   "execution_count": 3,
   "id": "e7feac55",
   "metadata": {},
   "outputs": [
    {
     "name": "stdout",
     "output_type": "stream",
     "text": [
      "here is the game list\n",
      "[0, 1, 2]\n"
     ]
    }
   ],
   "source": [
    "display_game(game_list)"
   ]
  },
  {
   "cell_type": "code",
   "execution_count": 4,
   "id": "860997bd",
   "metadata": {},
   "outputs": [],
   "source": [
    "def positional_index():\n",
    "    choice = 'wrong'\n",
    "    while choice not in ['0','1','2']:\n",
    "        choice = input('enter a digit (0,1,2):')\n",
    "        if choice not in ['0','1','2']:\n",
    "            print (\"wrong choice\")\n",
    "    return int(choice)\n",
    "        "
   ]
  },
  {
   "cell_type": "code",
   "execution_count": 5,
   "id": "bb40c954",
   "metadata": {},
   "outputs": [
    {
     "name": "stdout",
     "output_type": "stream",
     "text": [
      "enter a digit (0,1,2):2\n"
     ]
    },
    {
     "data": {
      "text/plain": [
       "2"
      ]
     },
     "execution_count": 5,
     "metadata": {},
     "output_type": "execute_result"
    }
   ],
   "source": [
    "positional_index()"
   ]
  },
  {
   "cell_type": "code",
   "execution_count": 6,
   "id": "19cb1dc1",
   "metadata": {},
   "outputs": [],
   "source": [
    "def replacement_choice(game_list,position):\n",
    "    user_index = input(\"enter a string\")\n",
    "    game_list[position] = user_index\n",
    "    \n",
    "    return game_list"
   ]
  },
  {
   "cell_type": "code",
   "execution_count": 7,
   "id": "8a6c563f",
   "metadata": {},
   "outputs": [
    {
     "name": "stdout",
     "output_type": "stream",
     "text": [
      "enter a stringKamalika is 22 years old\n"
     ]
    },
    {
     "data": {
      "text/plain": [
       "['Kamalika is 22 years old', 1, 2]"
      ]
     },
     "execution_count": 7,
     "metadata": {},
     "output_type": "execute_result"
    }
   ],
   "source": [
    "replacement_choice(game_list,0)"
   ]
  },
  {
   "cell_type": "code",
   "execution_count": 8,
   "id": "46a512a6",
   "metadata": {},
   "outputs": [],
   "source": [
    "def gameon_choice():\n",
    "    choice = 'wrong'\n",
    "    while choice not in ['Y','N']:\n",
    "        choice = input('Do you want to keep playing (Y or N):')\n",
    "        if choice not in ['Y','N']:\n",
    "            print (\"Please select Y or N\")\n",
    "    if choice == 'Y':\n",
    "        return True\n",
    "    else:\n",
    "        return False"
   ]
  },
  {
   "cell_type": "code",
   "execution_count": 9,
   "id": "4bbcc6e8",
   "metadata": {},
   "outputs": [
    {
     "name": "stdout",
     "output_type": "stream",
     "text": [
      "Do you want to keep playing (Y or N):hi\n",
      "Please select Y or N\n",
      "Do you want to keep playing (Y or N):y\n",
      "Please select Y or N\n",
      "Do you want to keep playing (Y or N):Y\n"
     ]
    },
    {
     "data": {
      "text/plain": [
       "True"
      ]
     },
     "execution_count": 9,
     "metadata": {},
     "output_type": "execute_result"
    }
   ],
   "source": [
    "gameon_choice()"
   ]
  },
  {
   "cell_type": "code",
   "execution_count": 10,
   "id": "56875003",
   "metadata": {},
   "outputs": [
    {
     "name": "stdout",
     "output_type": "stream",
     "text": [
      "here is the game list\n",
      "[0, 1, 2, 3, 4, 5]\n",
      "enter a digit (0,1,2):3\n",
      "wrong choice\n",
      "enter a digit (0,1,2):1\n",
      "enter a stringPubali\n",
      "here is the game list\n",
      "[0, 'Pubali', 2, 3, 4, 5]\n",
      "Do you want to keep playing (Y or N):y\n",
      "Please select Y or N\n",
      "Do you want to keep playing (Y or N):Y\n",
      "here is the game list\n",
      "[0, 'Pubali', 2, 3, 4, 5]\n",
      "enter a digit (0,1,2):2\n",
      "enter a stringDhyaros\n",
      "here is the game list\n",
      "[0, 'Pubali', 'Dhyaros', 3, 4, 5]\n",
      "Do you want to keep playing (Y or N):N\n"
     ]
    }
   ],
   "source": [
    "game_on = True\n",
    "game_list = [0,1,2,3,4,5]\n",
    "\n",
    "while game_on == True:\n",
    "    \n",
    "    display_game(game_list)\n",
    "    position = positional_index()\n",
    "    game_list = replacement_choice(game_list,position)\n",
    "    display_game(game_list)\n",
    "    game_on = gameon_choice()\n",
    "    "
   ]
  },
  {
   "cell_type": "code",
   "execution_count": 18,
   "id": "90537e76",
   "metadata": {},
   "outputs": [],
   "source": [
    "class Dog():\n",
    "    # class object attribute, same for any instance of a class\n",
    "    species = 'Mammal'\n",
    "\n",
    "    def __init__(self, breed, name, spots):  #double underscore in innit\n",
    "        self.breed = breed\n",
    "        self.name = name\n",
    "        self.spots = spots\n",
    "        \n",
    "        \n",
    "    #methods......\n",
    "    def bark(self,number):\n",
    "        print(\"woof! my name is {} and my number is {}\".format(self.name,number))  #cannot use format(name)\n",
    "\n",
    "\n",
    "    "
   ]
  },
  {
   "cell_type": "code",
   "execution_count": 21,
   "id": "d6e348c3",
   "metadata": {},
   "outputs": [],
   "source": [
    "# Creating an instance of the Dog class\n",
    "my_dog = Dog(breed='lab', name='Sammy', spots=False)\n"
   ]
  },
  {
   "cell_type": "code",
   "execution_count": 22,
   "id": "83f14b04",
   "metadata": {},
   "outputs": [
    {
     "data": {
      "text/plain": [
       "'Mammal'"
      ]
     },
     "execution_count": 22,
     "metadata": {},
     "output_type": "execute_result"
    }
   ],
   "source": [
    "my_dog.species"
   ]
  },
  {
   "cell_type": "code",
   "execution_count": 23,
   "id": "76918224",
   "metadata": {},
   "outputs": [
    {
     "data": {
      "text/plain": [
       "False"
      ]
     },
     "execution_count": 23,
     "metadata": {},
     "output_type": "execute_result"
    }
   ],
   "source": [
    "my_dog.spots"
   ]
  },
  {
   "cell_type": "code",
   "execution_count": 24,
   "id": "fdc70ea6",
   "metadata": {},
   "outputs": [
    {
     "name": "stdout",
     "output_type": "stream",
     "text": [
      "woof! my name is Sammy and my number is 3\n"
     ]
    }
   ],
   "source": [
    "my_dog.bark(3)"
   ]
  },
  {
   "cell_type": "code",
   "execution_count": 16,
   "id": "9effcc53",
   "metadata": {},
   "outputs": [],
   "source": [
    "class Circle():\n",
    "    pi = 3.14\n",
    "    \n",
    "    def __init__(self,radius=1):\n",
    "        self.radius = radius\n",
    "        self.area = radius*radius*self.pi\n",
    "        \n",
    "    def get_circumference(self):\n",
    "        return self.pi*self.radius*2\n",
    "    "
   ]
  },
  {
   "cell_type": "code",
   "execution_count": 17,
   "id": "1d135110",
   "metadata": {},
   "outputs": [],
   "source": [
    "my_circle = Circle()"
   ]
  },
  {
   "cell_type": "code",
   "execution_count": 18,
   "id": "2c7cb257",
   "metadata": {},
   "outputs": [
    {
     "data": {
      "text/plain": [
       "6.28"
      ]
     },
     "execution_count": 18,
     "metadata": {},
     "output_type": "execute_result"
    }
   ],
   "source": [
    "my_circle.get_circumference()"
   ]
  },
  {
   "cell_type": "code",
   "execution_count": 19,
   "id": "6625c4cd",
   "metadata": {},
   "outputs": [
    {
     "data": {
      "text/plain": [
       "1"
      ]
     },
     "execution_count": 19,
     "metadata": {},
     "output_type": "execute_result"
    }
   ],
   "source": [
    "my_circle.radius"
   ]
  },
  {
   "cell_type": "code",
   "execution_count": 20,
   "id": "fddbaa91",
   "metadata": {},
   "outputs": [],
   "source": [
    "my_circle = Circle(40)"
   ]
  },
  {
   "cell_type": "code",
   "execution_count": 21,
   "id": "0f615784",
   "metadata": {},
   "outputs": [
    {
     "data": {
      "text/plain": [
       "251.20000000000002"
      ]
     },
     "execution_count": 21,
     "metadata": {},
     "output_type": "execute_result"
    }
   ],
   "source": [
    "my_circle.get_circumference()"
   ]
  },
  {
   "cell_type": "code",
   "execution_count": 22,
   "id": "bf55f50b",
   "metadata": {},
   "outputs": [
    {
     "data": {
      "text/plain": [
       "40"
      ]
     },
     "execution_count": 22,
     "metadata": {},
     "output_type": "execute_result"
    }
   ],
   "source": [
    "my_circle.radius"
   ]
  },
  {
   "cell_type": "code",
   "execution_count": 23,
   "id": "aae30986",
   "metadata": {},
   "outputs": [
    {
     "data": {
      "text/plain": [
       "5024.0"
      ]
     },
     "execution_count": 23,
     "metadata": {},
     "output_type": "execute_result"
    }
   ],
   "source": [
    "my_circle.area"
   ]
  },
  {
   "cell_type": "code",
   "execution_count": 24,
   "id": "7aeb42cf",
   "metadata": {},
   "outputs": [],
   "source": [
    "#inheritence......."
   ]
  },
  {
   "cell_type": "code",
   "execution_count": 26,
   "id": "dccf689a",
   "metadata": {},
   "outputs": [],
   "source": [
    "class Animal():\n",
    "    def __init__(self):\n",
    "        print (\"animal created\")\n",
    "        \n",
    "    def eat(self):\n",
    "        print(\"I am eating\")\n",
    "        \n",
    "    def who_am_i(self):\n",
    "        print(\"I am an animal\")"
   ]
  },
  {
   "cell_type": "code",
   "execution_count": 27,
   "id": "a1c7a47b",
   "metadata": {},
   "outputs": [
    {
     "name": "stdout",
     "output_type": "stream",
     "text": [
      "animal created\n"
     ]
    }
   ],
   "source": [
    "my_animal = Animal()"
   ]
  },
  {
   "cell_type": "code",
   "execution_count": 38,
   "id": "ee2ee3ad",
   "metadata": {},
   "outputs": [],
   "source": [
    "class Dog(Animal):\n",
    "    def __init__(self):\n",
    "        Animal.__init__(self)\n",
    "        print('dog created')\n",
    "        \n",
    "        \n",
    "    #to overwrite a method\n",
    "    def who_am_i(self):\n",
    "        print('I am a dog')\n",
    "        \n",
    "        \n",
    "    #add on method\n",
    "    \n",
    "    def bark(self):\n",
    "        print('Woof!')\n",
    "        \n",
    "        \n",
    "        \n",
    "        \n",
    "        \n",
    "        \n",
    "        \n",
    "        \n",
    "        \n",
    "        \n",
    "        \n",
    "        \n",
    "        \n",
    "        "
   ]
  },
  {
   "cell_type": "code",
   "execution_count": 39,
   "id": "e6678d61",
   "metadata": {},
   "outputs": [
    {
     "name": "stdout",
     "output_type": "stream",
     "text": [
      "animal created\n",
      "dog created\n"
     ]
    }
   ],
   "source": [
    "mydog = Dog()"
   ]
  },
  {
   "cell_type": "code",
   "execution_count": 40,
   "id": "3563deb7",
   "metadata": {},
   "outputs": [
    {
     "name": "stdout",
     "output_type": "stream",
     "text": [
      "I am eating\n"
     ]
    }
   ],
   "source": [
    "mydog.eat()   #inherited from the base class"
   ]
  },
  {
   "cell_type": "code",
   "execution_count": 41,
   "id": "1dbc3a9f",
   "metadata": {},
   "outputs": [
    {
     "name": "stdout",
     "output_type": "stream",
     "text": [
      "I am a dog\n"
     ]
    }
   ],
   "source": [
    "mydog.who_am_i()"
   ]
  },
  {
   "cell_type": "code",
   "execution_count": 42,
   "id": "0242594e",
   "metadata": {},
   "outputs": [
    {
     "name": "stdout",
     "output_type": "stream",
     "text": [
      "I am an animal\n"
     ]
    }
   ],
   "source": [
    "my_animal.who_am_i()"
   ]
  },
  {
   "cell_type": "code",
   "execution_count": 43,
   "id": "39b69c17",
   "metadata": {},
   "outputs": [
    {
     "name": "stdout",
     "output_type": "stream",
     "text": [
      "Woof!\n"
     ]
    }
   ],
   "source": [
    "mydog.bark()"
   ]
  },
  {
   "cell_type": "code",
   "execution_count": 44,
   "id": "30dc393e",
   "metadata": {},
   "outputs": [],
   "source": [
    "#polymorphism......"
   ]
  },
  {
   "cell_type": "code",
   "execution_count": 50,
   "id": "a76f62c0",
   "metadata": {},
   "outputs": [],
   "source": [
    "class Dog():\n",
    "    def __init__(self,name):\n",
    "        self.name = name\n",
    "        \n",
    "    def speaks(self):\n",
    "        return self.name + ' says Woof!'"
   ]
  },
  {
   "cell_type": "code",
   "execution_count": 51,
   "id": "81030d68",
   "metadata": {},
   "outputs": [],
   "source": [
    "class Cat():\n",
    "    def __init__(self,name):\n",
    "        self.name = name\n",
    "        \n",
    "    def speaks(self):\n",
    "        return self.name + ' says Meow!'"
   ]
  },
  {
   "cell_type": "code",
   "execution_count": 52,
   "id": "ab979775",
   "metadata": {},
   "outputs": [],
   "source": [
    "Sam = Dog(\"Sam\")\n",
    "Mini = Cat(\"Mini\")"
   ]
  },
  {
   "cell_type": "code",
   "execution_count": 53,
   "id": "49458e81",
   "metadata": {},
   "outputs": [
    {
     "data": {
      "text/plain": [
       "'Sam says Woof!'"
      ]
     },
     "execution_count": 53,
     "metadata": {},
     "output_type": "execute_result"
    }
   ],
   "source": [
    "Sam.speaks()"
   ]
  },
  {
   "cell_type": "code",
   "execution_count": 54,
   "id": "a0246b92",
   "metadata": {},
   "outputs": [
    {
     "data": {
      "text/plain": [
       "'Mini says Meow!'"
      ]
     },
     "execution_count": 54,
     "metadata": {},
     "output_type": "execute_result"
    }
   ],
   "source": [
    "Mini.speaks()"
   ]
  },
  {
   "cell_type": "code",
   "execution_count": 55,
   "id": "96868328",
   "metadata": {},
   "outputs": [
    {
     "name": "stdout",
     "output_type": "stream",
     "text": [
      "<class '__main__.Dog'>\n",
      "Sam says Woof!\n",
      "<class '__main__.Cat'>\n",
      "Mini says Meow!\n"
     ]
    }
   ],
   "source": [
    "for pet in [Sam,Mini]:   #iteration method\n",
    "    print (type(pet))\n",
    "    print (pet.speaks())"
   ]
  },
  {
   "cell_type": "code",
   "execution_count": 56,
   "id": "0e87951e",
   "metadata": {},
   "outputs": [],
   "source": [
    "def pet_speak(pet):       #function method to show polymorphism\n",
    "    print(pet.speaks())"
   ]
  },
  {
   "cell_type": "code",
   "execution_count": 57,
   "id": "d59e90ad",
   "metadata": {},
   "outputs": [
    {
     "name": "stdout",
     "output_type": "stream",
     "text": [
      "Sam says Woof!\n"
     ]
    }
   ],
   "source": [
    "pet_speak(Sam)"
   ]
  },
  {
   "cell_type": "code",
   "execution_count": 58,
   "id": "28a4c814",
   "metadata": {},
   "outputs": [
    {
     "name": "stdout",
     "output_type": "stream",
     "text": [
      "Mini says Meow!\n"
     ]
    }
   ],
   "source": [
    "pet_speak(Mini)"
   ]
  },
  {
   "cell_type": "code",
   "execution_count": 77,
   "id": "26ca7934",
   "metadata": {},
   "outputs": [],
   "source": [
    "class Book():\n",
    "    def __init__(self,title,author,pages):\n",
    "        self.title = title\n",
    "        self.author = author\n",
    "        self.pages = pages\n",
    "        \n",
    "    def __str__(self):              #returns string representation of user defined object\n",
    "        return f\"{self.title} by {self.author}\"\n",
    "    \n",
    "    def __len__(self):      #returns length of user defined objects\n",
    "        return self.pages\n",
    "    \n",
    "    def __del__(self):\n",
    "        print(\"the book object has been deleted\")\n",
    "        \n",
    "    \n",
    "    "
   ]
  },
  {
   "cell_type": "code",
   "execution_count": 78,
   "id": "37948a8d",
   "metadata": {},
   "outputs": [],
   "source": [
    "mybook = Book('Python Rocks','Kamalika',200)"
   ]
  },
  {
   "cell_type": "code",
   "execution_count": 79,
   "id": "2699824a",
   "metadata": {},
   "outputs": [
    {
     "name": "stdout",
     "output_type": "stream",
     "text": [
      "Python Rocks by Kamalika\n"
     ]
    }
   ],
   "source": [
    "print (mybook)"
   ]
  },
  {
   "cell_type": "code",
   "execution_count": 80,
   "id": "0c7bd997",
   "metadata": {},
   "outputs": [
    {
     "data": {
      "text/plain": [
       "200"
      ]
     },
     "execution_count": 80,
     "metadata": {},
     "output_type": "execute_result"
    }
   ],
   "source": [
    "len(mybook)"
   ]
  },
  {
   "cell_type": "code",
   "execution_count": 81,
   "id": "70d9a3ce",
   "metadata": {},
   "outputs": [
    {
     "name": "stdout",
     "output_type": "stream",
     "text": [
      "the book object has been deleted\n"
     ]
    }
   ],
   "source": [
    "del mybook"
   ]
  },
  {
   "cell_type": "code",
   "execution_count": 82,
   "id": "021c701e",
   "metadata": {},
   "outputs": [
    {
     "ename": "NameError",
     "evalue": "name 'mybook' is not defined",
     "output_type": "error",
     "traceback": [
      "\u001b[1;31m---------------------------------------------------------------------------\u001b[0m",
      "\u001b[1;31mNameError\u001b[0m                                 Traceback (most recent call last)",
      "Cell \u001b[1;32mIn[82], line 1\u001b[0m\n\u001b[1;32m----> 1\u001b[0m mybook\n",
      "\u001b[1;31mNameError\u001b[0m: name 'mybook' is not defined"
     ]
    }
   ],
   "source": [
    "mybook"
   ]
  },
  {
   "cell_type": "code",
   "execution_count": 4,
   "id": "8aa4ffb9",
   "metadata": {},
   "outputs": [
    {
     "name": "stdout",
     "output_type": "stream",
     "text": [
      "add went well\n",
      "20\n"
     ]
    }
   ],
   "source": [
    "try:\n",
    "    result = 10+ 10     #might obtain error\n",
    "    \n",
    "except:\n",
    "    print(\"you are not adding correctly!\")    #runs if there is an error in try block\n",
    "    \n",
    "else:\n",
    "    print(\"add went well\")     #runs if try block is correct\n",
    "    print(result)"
   ]
  },
  {
   "cell_type": "code",
   "execution_count": 5,
   "id": "c2b01a38",
   "metadata": {},
   "outputs": [
    {
     "data": {
      "text/plain": [
       "20"
      ]
     },
     "execution_count": 5,
     "metadata": {},
     "output_type": "execute_result"
    }
   ],
   "source": [
    "result"
   ]
  },
  {
   "cell_type": "code",
   "execution_count": 6,
   "id": "0a0d03b7",
   "metadata": {},
   "outputs": [
    {
     "name": "stdout",
     "output_type": "stream",
     "text": [
      "OSerror\n",
      "I always run\n"
     ]
    }
   ],
   "source": [
    "try:\n",
    "    f= open('testfile','r')\n",
    "    f.write(\"write a testline\")\n",
    "    \n",
    "except TypeError:\n",
    "    print(\"There is a type error\")\n",
    "    \n",
    "except OSError:\n",
    "    print(\"OSerror\")\n",
    "    \n",
    "finally:\n",
    "    print(\"I always run\")\n",
    "    "
   ]
  },
  {
   "cell_type": "code",
   "execution_count": 7,
   "id": "126a4915",
   "metadata": {},
   "outputs": [
    {
     "name": "stdout",
     "output_type": "stream",
     "text": [
      "I always run\n"
     ]
    }
   ],
   "source": [
    "try:\n",
    "    f= open('testfile','w')\n",
    "    f.write(\"write a testline\")\n",
    "    \n",
    "except TypeError:\n",
    "    print(\"There is a type error\")\n",
    "    \n",
    "except OSError:\n",
    "    print(\"OSerror\")\n",
    "    \n",
    "finally:\n",
    "    print(\"I always run\")\n",
    "    "
   ]
  },
  {
   "cell_type": "code",
   "execution_count": 8,
   "id": "0d5cbd15",
   "metadata": {},
   "outputs": [
    {
     "name": "stdout",
     "output_type": "stream",
     "text": [
      "All other exceptions\n",
      "I always run\n"
     ]
    }
   ],
   "source": [
    "try:\n",
    "    f= open('testfile','r')\n",
    "    f.write(\"write a testline\")\n",
    "    \n",
    "\n",
    "except:\n",
    "    print(\"All other exceptions\")\n",
    "    \n",
    "finally:\n",
    "    print(\"I always run\")\n",
    "    "
   ]
  },
  {
   "cell_type": "code",
   "execution_count": 1,
   "id": "7a012abb",
   "metadata": {},
   "outputs": [],
   "source": [
    "def ask_for_int():\n",
    "    while True:\n",
    "        try:\n",
    "            number = int(input(\"please provide a number: \"))\n",
    "\n",
    "        except:\n",
    "\n",
    "            print(\"whoops that is not a number!\")\n",
    "            continue\n",
    "\n",
    "        else:\n",
    "            #if user input is correct\n",
    "            print(\"Thank you\")\n",
    "            break\n",
    "        finally:\n",
    "            print(\"end of try/except/finally\")\n"
   ]
  },
  {
   "cell_type": "code",
   "execution_count": 2,
   "id": "6a310599",
   "metadata": {},
   "outputs": [
    {
     "name": "stdout",
     "output_type": "stream",
     "text": [
      "please provide a number: r\n",
      "whoops that is not a number!\n",
      "end of try/except/finally\n",
      "please provide a number: 67\n",
      "Thank you\n",
      "end of try/except/finally\n"
     ]
    }
   ],
   "source": [
    "ask_for_int()"
   ]
  },
  {
   "cell_type": "code",
   "execution_count": null,
   "id": "c76fe078",
   "metadata": {},
   "outputs": [],
   "source": []
  },
  {
   "cell_type": "code",
   "execution_count": null,
   "id": "7f67ca3c",
   "metadata": {},
   "outputs": [],
   "source": []
  },
  {
   "cell_type": "code",
   "execution_count": null,
   "id": "649e622b",
   "metadata": {},
   "outputs": [],
   "source": []
  }
 ],
 "metadata": {
  "kernelspec": {
   "display_name": "Python 3 (ipykernel)",
   "language": "python",
   "name": "python3"
  },
  "language_info": {
   "codemirror_mode": {
    "name": "ipython",
    "version": 3
   },
   "file_extension": ".py",
   "mimetype": "text/x-python",
   "name": "python",
   "nbconvert_exporter": "python",
   "pygments_lexer": "ipython3",
   "version": "3.11.5"
  }
 },
 "nbformat": 4,
 "nbformat_minor": 5
}
